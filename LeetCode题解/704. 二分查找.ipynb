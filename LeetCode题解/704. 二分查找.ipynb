{
 "cells": [
  {
   "cell_type": "markdown",
   "id": "6ac633dd",
   "metadata": {},
   "source": [
    "## 704. 二分查找\n",
    "给定一个 `n` 个元素有序的（升序）整型数组 `nums` 和一个目标值 `target` ，写一个函数搜索 `nums` 中的 `target`，如果目标值存在返回下标，否则返回 `-1`。\n",
    "\n",
    "[URL](https://leetcode.cn/problems/binary-search/description/)"
   ]
  },
  {
   "cell_type": "code",
   "execution_count": 3,
   "id": "249bf782",
   "metadata": {},
   "outputs": [
    {
     "name": "stdout",
     "output_type": "stream",
     "text": [
      "3\n"
     ]
    }
   ],
   "source": [
    "class Soluation(object):\n",
    "    def search(self, nums, target):\n",
    "        \"\"\"二分查找\"\"\"\n",
    "        left = 0\n",
    "        right = len(nums) - 1\n",
    "        \n",
    "        while left <= right:\n",
    "            mid = left + right >> 1\n",
    "            if nums[mid] > target:\n",
    "                right = mid - 1\n",
    "            elif nums[mid] < target:\n",
    "                left = mid + 1\n",
    "            else:\n",
    "                return mid\n",
    "        \n",
    "        # not find target\n",
    "        return -1\n",
    "    \n",
    "nums = [1, 3, 7, 9]\n",
    "target = 3\n",
    "s = Soluation()\n",
    "idx = s.search(nums, target)\n",
    "print(nums[idx])"
   ]
  },
  {
   "cell_type": "code",
   "execution_count": null,
   "id": "0a2abccd",
   "metadata": {},
   "outputs": [],
   "source": []
  }
 ],
 "metadata": {
  "kernelspec": {
   "display_name": "Python 3 (ipykernel)",
   "language": "python",
   "name": "python3"
  },
  "language_info": {
   "codemirror_mode": {
    "name": "ipython",
    "version": 3
   },
   "file_extension": ".py",
   "mimetype": "text/x-python",
   "name": "python",
   "nbconvert_exporter": "python",
   "pygments_lexer": "ipython3",
   "version": "3.9.6"
  },
  "toc": {
   "base_numbering": 1,
   "nav_menu": {},
   "number_sections": true,
   "sideBar": true,
   "skip_h1_title": false,
   "title_cell": "Table of Contents",
   "title_sidebar": "Contents",
   "toc_cell": false,
   "toc_position": {},
   "toc_section_display": true,
   "toc_window_display": false
  }
 },
 "nbformat": 4,
 "nbformat_minor": 5
}
