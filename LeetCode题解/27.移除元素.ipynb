{
 "cells": [
  {
   "cell_type": "markdown",
   "id": "6b1af47f",
   "metadata": {
    "toc": true
   },
   "source": [
    "<h1>Table of Contents<span class=\"tocSkip\"></span></h1>\n",
    "<div class=\"toc\"><ul class=\"toc-item\"><li><span><a href=\"#27.移除元素\" data-toc-modified-id=\"27.移除元素-1\"><span class=\"toc-item-num\">1&nbsp;&nbsp;</span>27.移除元素</a></span></li></ul></div>"
   ]
  },
  {
   "cell_type": "markdown",
   "id": "f35192da",
   "metadata": {},
   "source": [
    "## 27.移除元素\n",
    "\n",
    "给你一个数组 `nums` 和一个值 `val`，你需要 **[原地](https://baike.baidu.com/item/原地算法)** 移除所有数值等于 `val` 的元素，并返回移除后数组的新长度。不要使用额外的数组空间，你必须仅使用 `O(1)` 额外空间并 **[原地 ](https://baike.baidu.com/item/原地算法)修改输入数组**。元素的顺序可以改变。你不需要考虑数组中超出新长度后面的元素。"
   ]
  },
  {
   "cell_type": "code",
   "execution_count": 4,
   "id": "19339b59",
   "metadata": {},
   "outputs": [
    {
     "name": "stdout",
     "output_type": "stream",
     "text": [
      "nums: [2, 2, 2, 3]\n",
      "nums_size: 2\n"
     ]
    }
   ],
   "source": [
    "class Solution(object):\n",
    "    def removeElement(self, nums, val):\n",
    "        \"\"\"\n",
    "        :type nums: List[int]\n",
    "        :type val: int\n",
    "        :rtype: int\n",
    "        \"\"\"\n",
    "        fast = 0\n",
    "        slow = 0\n",
    "        size = len(nums)\n",
    "        while fast < size:\n",
    "            if nums[fast] != val:\n",
    "                nums[slow] = nums[fast]\n",
    "                slow += 1\n",
    "            fast += 1\n",
    "        return slow\n",
    "\n",
    "s = Solution()\n",
    "nums = [3, 2, 2, 3]\n",
    "nums_size = s.removeElement(nums, 3)\n",
    "print(\"nums: {}\".format(nums))\n",
    "print(\"nums_size: {}\".format(nums_size))"
   ]
  },
  {
   "cell_type": "markdown",
   "id": "467ddda1",
   "metadata": {},
   "source": [
    "假设输入为 `nums = [3, 2, 2, 3]`，`val = 3`。\n",
    "\n",
    "1. **初始状态**:\n",
    "   - `nums = [3, 2, 2, 3]`\n",
    "   - `val = 3`\n",
    "   - `fast = 0`\n",
    "   - `slow = 0`\n",
    "   \n",
    "   \n",
    "2. **第一次循环 (`fast = 0`)**:\n",
    "   - `nums[fast] = 3`，等于 `val`，不做处理。\n",
    "   - 移动 `fast` 到 1。\n",
    "   - `nums = [3, 2, 2, 3]`\n",
    "   \n",
    "   \n",
    "3. **第二次循环 (`fast = 1`)**:\n",
    "   - `nums[fast] = 2`，不等于 `val`，将 `nums[slow]` 赋值为 `nums[fast]`。\n",
    "   - `nums = [2, 2, 2, 3]`\n",
    "   - 移动 `slow` 到 1。\n",
    "   - 移动 `fast` 到 2。\n",
    "\n",
    "\n",
    "4. **第三次循环 (`fast = 2`)**:\n",
    "   - `nums[fast] = 2`，不等于 `val`，将 `nums[slow]` 赋值为 `nums[fast]`。\n",
    "   - `nums = [2, 2, 2, 3]`\n",
    "   - 移动 `slow` 到 2。\n",
    "   - 移动 `fast` 到 3。\n",
    "\n",
    "\n",
    "5. **第四次循环 (`fast = 3`)**:\n",
    "   - `nums[fast] = 3`，等于 `val`，不做处理。\n",
    "   - 移动 `fast` 到 4（结束循环）。\n",
    "\n",
    "\n",
    "6. **返回结果**:\n",
    "   - 返回 `slow` 的值，即 2。"
   ]
  },
  {
   "cell_type": "code",
   "execution_count": null,
   "id": "4e2dc814",
   "metadata": {},
   "outputs": [],
   "source": []
  }
 ],
 "metadata": {
  "kernelspec": {
   "display_name": "Python 3 (ipykernel)",
   "language": "python",
   "name": "python3"
  },
  "language_info": {
   "codemirror_mode": {
    "name": "ipython",
    "version": 3
   },
   "file_extension": ".py",
   "mimetype": "text/x-python",
   "name": "python",
   "nbconvert_exporter": "python",
   "pygments_lexer": "ipython3",
   "version": "3.9.6"
  },
  "toc": {
   "base_numbering": 1,
   "nav_menu": {},
   "number_sections": true,
   "sideBar": true,
   "skip_h1_title": false,
   "title_cell": "Table of Contents",
   "title_sidebar": "Contents",
   "toc_cell": true,
   "toc_position": {},
   "toc_section_display": true,
   "toc_window_display": false
  }
 },
 "nbformat": 4,
 "nbformat_minor": 5
}
