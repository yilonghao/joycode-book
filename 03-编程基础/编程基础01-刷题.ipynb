{
 "cells": [
  {
   "cell_type": "markdown",
   "id": "a3a4e077",
   "metadata": {
    "toc": true
   },
   "source": [
    "<h1>Table of Contents<span class=\"tocSkip\"></span></h1>\n",
    "<div class=\"toc\"><ul class=\"toc-item\"><li><span><a href=\"#二分查找\" data-toc-modified-id=\"二分查找-1\"><span class=\"toc-item-num\">1&nbsp;&nbsp;</span>二分查找</a></span></li><li><span><a href=\"#移除元素\" data-toc-modified-id=\"移除元素-2\"><span class=\"toc-item-num\">2&nbsp;&nbsp;</span>移除元素</a></span></li><li><span><a href=\"#有序数组的平方\" data-toc-modified-id=\"有序数组的平方-3\"><span class=\"toc-item-num\">3&nbsp;&nbsp;</span>有序数组的平方</a></span></li><li><span><a href=\"#206.-反转链表\" data-toc-modified-id=\"206.-反转链表-4\"><span class=\"toc-item-num\">4&nbsp;&nbsp;</span><a href=\"https://leetcode.cn/problems/reverse-linked-list/\" rel=\"nofollow\" target=\"_blank\">206. 反转链表</a></a></span></li><li><span><a href=\"#24.-两两交换链表中的节点\" data-toc-modified-id=\"24.-两两交换链表中的节点-5\"><span class=\"toc-item-num\">5&nbsp;&nbsp;</span><a href=\"https://leetcode.cn/problems/swap-nodes-in-pairs/\" rel=\"nofollow\" target=\"_blank\">24. 两两交换链表中的节点</a></a></span></li><li><span><a href=\"#203.-移除链表元素\" data-toc-modified-id=\"203.-移除链表元素-6\"><span class=\"toc-item-num\">6&nbsp;&nbsp;</span><a href=\"https://leetcode.cn/problems/remove-linked-list-elements/\" rel=\"nofollow\" target=\"_blank\">203. 移除链表元素</a></a></span></li><li><span><a href=\"#长度最小的子数组\" data-toc-modified-id=\"长度最小的子数组-7\"><span class=\"toc-item-num\">7&nbsp;&nbsp;</span>长度最小的子数组</a></span></li></ul></div>"
   ]
  },
  {
   "cell_type": "markdown",
   "id": "6f6c060e",
   "metadata": {},
   "source": [
    "# 编程基础01-刷题"
   ]
  },
  {
   "cell_type": "markdown",
   "id": "a218afd5",
   "metadata": {},
   "source": [
    "## 二分查找\n",
    "\n",
    "给定一个 `n` 个元素有序的（升序）整型数组 `nums` 和一个目标值 `target` ，写一个函数搜索 `nums` 中的 `target`，如果目标值存在返回下标，否则返回 `-1`。"
   ]
  },
  {
   "cell_type": "code",
   "execution_count": 11,
   "id": "b3eeeeeb",
   "metadata": {},
   "outputs": [
    {
     "name": "stdout",
     "output_type": "stream",
     "text": [
      "index: 1\n",
      "index: 2\n",
      "index: -1\n"
     ]
    }
   ],
   "source": [
    "class Solution(object):\n",
    "    def search(self, nums, target):\n",
    "        left = 0\n",
    "        right = len(nums) - 1\n",
    "        while left <= right:\n",
    "            middle = (left + right) // 2\n",
    "            if nums[middle] > target:\n",
    "                right = middle - 1\n",
    "            elif nums[middle] < target:\n",
    "                left = middle + 1\n",
    "            else:\n",
    "                return middle\n",
    "        return -1\n",
    "\n",
    "nums = [1, 2, 3, 3, 6]\n",
    "s = Solution()\n",
    "print(\"index: {}\".format(s.search(nums, 2)))\n",
    "print(\"index: {}\".format(s.search(nums, 3)))\n",
    "print(\"index: {}\".format(s.search(nums, 8)))"
   ]
  },
  {
   "cell_type": "markdown",
   "id": "dd8ee406",
   "metadata": {},
   "source": [
    "## 移除元素\n",
    "\n",
    "给你一个数组 `nums` 和一个值 `val`，你需要 **[原地](https://baike.baidu.com/item/原地算法)** 移除所有数值等于 `val` 的元素，并返回移除后数组的新长度。不要使用额外的数组空间，你必须仅使用 `O(1)` 额外空间并 **[原地 ](https://baike.baidu.com/item/原地算法)修改输入数组**。元素的顺序可以改变。你不需要考虑数组中超出新长度后面的元素。\n",
    "\n",
    "解题思路：**快慢指针**，通过一个快指针和慢指针在一个for循环下完成两个for循环的工作。"
   ]
  },
  {
   "cell_type": "code",
   "execution_count": 16,
   "id": "7f0e47a6",
   "metadata": {
    "scrolled": true
   },
   "outputs": [
    {
     "name": "stdout",
     "output_type": "stream",
     "text": [
      "移除指定元素后，新数组的长度为：3\n"
     ]
    }
   ],
   "source": [
    "class Solution(object):\n",
    "    def remove_element(self, nums, val):\n",
    "        \"\"\"remove element\"\"\"\n",
    "        fast = 0\n",
    "        slow = 0\n",
    "        size = len(nums)\n",
    "        \n",
    "        while fast < size:\n",
    "            if nums[fast] != val:\n",
    "                nums[slow] = nums[fast]\n",
    "                slow += 1\n",
    "            fast += 1\n",
    "            \n",
    "        # 返回长度\n",
    "        return slow\n",
    "\n",
    "nums = [1, 1, 2, 2, 3]\n",
    "s = Solution()\n",
    "print(\"移除指定元素后，新数组的长度为：{}\".format(s.remove_element(nums, 2)))"
   ]
  },
  {
   "cell_type": "markdown",
   "id": "27c74d3e",
   "metadata": {},
   "source": [
    "## 有序数组的平方\n",
    "\n",
    "给你一个按**非递减顺序**排序的整数数组 `nums`，返回**每个数字的平方**组成的新数组，要求也按**非递减顺序**排序，要求时间复杂度O(n)。\n",
    "\n",
    "解题思路：**双指针法**，数组平方的最大值就在数组的两端，不是最左边就是最右边，不可能是中间。"
   ]
  },
  {
   "cell_type": "code",
   "execution_count": 17,
   "id": "accf07a3",
   "metadata": {},
   "outputs": [
    {
     "name": "stdout",
     "output_type": "stream",
     "text": [
      "res: [0, 1, 1, 4, 4, 9]\n"
     ]
    }
   ],
   "source": [
    "class Solution(object):\n",
    "    def sorted_squares(self, nums):\n",
    "        \"\"\"sorted squares\"\"\"\n",
    "        size = len(nums)\n",
    "        left = 0\n",
    "        right = size - 1\n",
    "        idx = size - 1\n",
    "        res = [0] * size\n",
    "        \n",
    "        while left <= right:\n",
    "            left_square_val = nums[left] ** 2\n",
    "            right_square_val = nums[right] ** 2\n",
    "            if left_square_val < right_square_val:\n",
    "                res[idx] = right_square_val\n",
    "                right -= 1\n",
    "            else:\n",
    "                res[idx] = left_square_val\n",
    "                left += 1\n",
    "            idx -= 1\n",
    "            \n",
    "        return res\n",
    "    \n",
    "nums = [-2, -1, 0, 1, 2, 3]\n",
    "s = Solution()\n",
    "print(\"res: {}\".format(s.sorted_squares(nums)))"
   ]
  },
  {
   "cell_type": "markdown",
   "id": "3a377095",
   "metadata": {},
   "source": [
    "## [206. 反转链表](https://leetcode.cn/problems/reverse-linked-list/)\n",
    "\n",
    "给你单链表的头节点 `head` ，请你反转链表，并返回反转后的链表。\n",
    "\n",
    "解题思路：双指针法\n",
    "\n",
    "<img src=\"https://yilonghao-picgo.oss-cn-hangzhou.aliyuncs.com/image-20240616145139631.png\" style=\"zoom:50%; display: block; margin: auto;\" />"
   ]
  },
  {
   "cell_type": "code",
   "execution_count": 27,
   "id": "69d09fb7",
   "metadata": {},
   "outputs": [
    {
     "name": "stdout",
     "output_type": "stream",
     "text": [
      "1->2->3->None\n",
      "3->2->1->None\n"
     ]
    }
   ],
   "source": [
    "from __future__ import print_function\n",
    "\n",
    "\n",
    "class Solution(object):\n",
    "    def reverse_list(self, head):\n",
    "        \"\"\"reverse list\"\"\"\n",
    "        pre = None\n",
    "        cur = head\n",
    "        tmp = None\n",
    "        \n",
    "        while cur:\n",
    "            tmp = cur.next\n",
    "            cur.next = pre\n",
    "            pre = cur\n",
    "            cur = tmp\n",
    "        \n",
    "        return pre\n",
    "\n",
    "\n",
    "class ListNode(object):\n",
    "    def __init__(self, val=0, next=None):\n",
    "        self.val = val\n",
    "        self.next = next\n",
    "        \n",
    "\n",
    "a = ListNode(1, ListNode(2, ListNode(3)))\n",
    "\n",
    "\n",
    "def print_list(head):\n",
    "    \"\"\"print list\"\"\"\n",
    "    while head:\n",
    "        print(\"{}->\".format(head.val), end=\"\")\n",
    "        head = head.next\n",
    "    print(None)\n",
    "\n",
    "    \n",
    "print_list(a)\n",
    "s = Solution()\n",
    "b = s.reverse_list(a)\n",
    "print_list(b)"
   ]
  },
  {
   "cell_type": "markdown",
   "id": "41470744",
   "metadata": {},
   "source": [
    "## [24. 两两交换链表中的节点](https://leetcode.cn/problems/swap-nodes-in-pairs/)\n",
    "\n",
    "给你一个链表，两两交换其中相邻的节点，并返回交换后链表的头节点。你必须在不修改节点内部的值的情况下完成本题（即，只能进行节点交换）。\n",
    "\n",
    "<img src=\"https://yilonghao-picgo.oss-cn-hangzhou.aliyuncs.com/image-20240616151423170.png\" style=\"zoom:50%; display: block; margin: auto;\" />"
   ]
  },
  {
   "cell_type": "code",
   "execution_count": 30,
   "id": "7d63c7a3",
   "metadata": {},
   "outputs": [
    {
     "name": "stdout",
     "output_type": "stream",
     "text": [
      "1->2->3->None\n",
      "2->1->3->None\n"
     ]
    }
   ],
   "source": [
    "class Solution(object):\n",
    "    def swap_pairs(self, head):\n",
    "        \"\"\"swap pairs\"\"\"\n",
    "        dummy = ListNode(next=head)\n",
    "        cur = dummy\n",
    "        \n",
    "        while cur.next and cur.next.next:\n",
    "            tmp1 = cur.next\n",
    "            tmp2 = cur.next.next\n",
    "            \n",
    "            tmp1.next = tmp2.next\n",
    "            tmp2.next = tmp1\n",
    "            \n",
    "            cur.next = tmp2\n",
    "            cur = cur.next.next\n",
    "        \n",
    "        return dummy.next\n",
    "\n",
    "    \n",
    "class ListNode(object):\n",
    "    def __init__(self, val=0, next=None):\n",
    "        self.val = val\n",
    "        self.next = next\n",
    "        \n",
    "\n",
    "a = ListNode(1, ListNode(2, ListNode(3)))\n",
    "\n",
    "\n",
    "def print_list(head):\n",
    "    \"\"\"print list\"\"\"\n",
    "    while head:\n",
    "        print(\"{}->\".format(head.val), end=\"\")\n",
    "        head = head.next\n",
    "    print(None)\n",
    "    \n",
    "\n",
    "print_list(a)\n",
    "s = Solution()\n",
    "b = s.swap_pairs(a)\n",
    "print_list(b)"
   ]
  },
  {
   "cell_type": "markdown",
   "id": "840bda95",
   "metadata": {},
   "source": [
    "## [203. 移除链表元素](https://leetcode.cn/problems/remove-linked-list-elements/)\n",
    "\n",
    "给你一个链表的头节点`head`和一个整数`val` ，请你删除链表中所有满足`Node.val == val`的节点，并返回**新的头节点** 。\n",
    "\n",
    "解题思路：设置虚拟头节点，原链表所有的节点都可以按照统一的方式进行处理"
   ]
  },
  {
   "cell_type": "code",
   "execution_count": 32,
   "id": "91b0d1a6",
   "metadata": {},
   "outputs": [
    {
     "name": "stdout",
     "output_type": "stream",
     "text": [
      "1->2->3->None\n",
      "1->2->None\n"
     ]
    }
   ],
   "source": [
    "class Solution(object):\n",
    "    def remove_elements(self, head, val):\n",
    "        \"\"\"remove elements\"\"\"\n",
    "        dummy = ListNode(next=head)\n",
    "        cur = dummy\n",
    "        \n",
    "        while cur.next:\n",
    "            if cur.next.val == val:\n",
    "                cur.next = cur.next.next\n",
    "            else:\n",
    "                cur = cur.next\n",
    "        \n",
    "        return dummy.next\n",
    "\n",
    "a = ListNode(1, ListNode(2, ListNode(3)))\n",
    "\n",
    "\n",
    "def print_list(head):\n",
    "    \"\"\"print list\"\"\"\n",
    "    while head:\n",
    "        print(\"{}->\".format(head.val), end=\"\")\n",
    "        head = head.next\n",
    "    print(None)\n",
    "    \n",
    "\n",
    "print_list(a)\n",
    "s = Solution()\n",
    "b = s.remove_elements(a, 3)\n",
    "print_list(b)"
   ]
  },
  {
   "cell_type": "markdown",
   "id": "a059ef0e",
   "metadata": {},
   "source": [
    "## 长度最小的子数组\n",
    "\n",
    "给定一个含有 `n` 个正整数的数组和一个正整数 `target` **。**找出该数组中满足其总和大于等于 `target` 的长度最小的 **连续子数组** `[numsl, numsl+1, ..., numsr-1, numsr]` ，并返回其长度**。**如果不存在符合条件的子数组，返回 `0` 。"
   ]
  },
  {
   "cell_type": "code",
   "execution_count": 35,
   "id": "8ce5ca97",
   "metadata": {},
   "outputs": [
    {
     "name": "stdout",
     "output_type": "stream",
     "text": [
      "min len: 1\n"
     ]
    }
   ],
   "source": [
    "class Solution(object):\n",
    "    def minSubArrayLen(self, target, nums):\n",
    "        \"\"\"\n",
    "        :type target: int\n",
    "        :type nums: List[int]\n",
    "        :rtype: int\n",
    "        \"\"\"\n",
    "        size = len(nums)\n",
    "        left = 0\n",
    "        right = 0\n",
    "        cur_sum = 0\n",
    "        min_len = float('inf')\n",
    "        while right < size:\n",
    "            cur_sum += nums[right]\n",
    "            while cur_sum >= target:\n",
    "                sub_length = right - left + 1\n",
    "                min_len = sub_length if sub_length < min_len else min_len\n",
    "                cur_sum -= nums[left]\n",
    "                left += 1\n",
    "            right += 1\n",
    "        return min_len if min_len != float('inf') else 0\n",
    "    \n",
    "\n",
    "a = [1, 2, 2, 1, 3, 6]\n",
    "s = Solution()\n",
    "print(\"min len: {}\".format(s.minSubArrayLen(4, a)))"
   ]
  }
 ],
 "metadata": {
  "kernelspec": {
   "display_name": "Python 3 (ipykernel)",
   "language": "python",
   "name": "python3"
  },
  "language_info": {
   "codemirror_mode": {
    "name": "ipython",
    "version": 3
   },
   "file_extension": ".py",
   "mimetype": "text/x-python",
   "name": "python",
   "nbconvert_exporter": "python",
   "pygments_lexer": "ipython3",
   "version": "3.9.6"
  },
  "toc": {
   "base_numbering": 1,
   "nav_menu": {},
   "number_sections": true,
   "sideBar": true,
   "skip_h1_title": true,
   "title_cell": "Table of Contents",
   "title_sidebar": "Contents",
   "toc_cell": true,
   "toc_position": {},
   "toc_section_display": true,
   "toc_window_display": true
  }
 },
 "nbformat": 4,
 "nbformat_minor": 5
}
