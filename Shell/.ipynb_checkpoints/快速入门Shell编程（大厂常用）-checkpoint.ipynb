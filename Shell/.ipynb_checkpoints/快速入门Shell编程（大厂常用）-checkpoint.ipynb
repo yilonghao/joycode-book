{
 "cells": [
  {
   "cell_type": "markdown",
   "id": "70c37da7",
   "metadata": {
    "toc": true
   },
   "source": [
    "<h1>Table of Contents<span class=\"tocSkip\"></span></h1>\n",
    "<div class=\"toc\"><ul class=\"toc-item\"><li><span><a href=\"#统计脚本执行时长\" data-toc-modified-id=\"统计脚本执行时长-1\"><span class=\"toc-item-num\">1&nbsp;&nbsp;</span>统计脚本执行时长</a></span></li><li><span><a href=\"#遍历最近N天的日期\" data-toc-modified-id=\"遍历最近N天的日期-2\"><span class=\"toc-item-num\">2&nbsp;&nbsp;</span>遍历最近N天的日期</a></span></li><li><span><a href=\"#遍历小时（23点->0点）\" data-toc-modified-id=\"遍历小时（23点->0点）-3\"><span class=\"toc-item-num\">3&nbsp;&nbsp;</span>遍历小时（23点-&gt;0点）</a></span></li><li><span><a href=\"#引号\" data-toc-modified-id=\"引号-4\"><span class=\"toc-item-num\">4&nbsp;&nbsp;</span>引号</a></span></li><li><span><a href=\"#逻辑运算\" data-toc-modified-id=\"逻辑运算-5\"><span class=\"toc-item-num\">5&nbsp;&nbsp;</span>逻辑运算</a></span><ul class=\"toc-item\"><li><span><a href=\"#逻辑或\" data-toc-modified-id=\"逻辑或-5.1\"><span class=\"toc-item-num\">5.1&nbsp;&nbsp;</span>逻辑或</a></span></li><li><span><a href=\"#逻辑与\" data-toc-modified-id=\"逻辑与-5.2\"><span class=\"toc-item-num\">5.2&nbsp;&nbsp;</span>逻辑与</a></span></li><li><span><a href=\"#逻辑非\" data-toc-modified-id=\"逻辑非-5.3\"><span class=\"toc-item-num\">5.3&nbsp;&nbsp;</span>逻辑非</a></span></li></ul></li><li><span><a href=\"#列表\" data-toc-modified-id=\"列表-6\"><span class=\"toc-item-num\">6&nbsp;&nbsp;</span>列表</a></span><ul class=\"toc-item\"><li><span><a href=\"#定义与遍历列表\" data-toc-modified-id=\"定义与遍历列表-6.1\"><span class=\"toc-item-num\">6.1&nbsp;&nbsp;</span>定义与遍历列表</a></span></li><li><span><a href=\"#判断字符串是否在列表中\" data-toc-modified-id=\"判断字符串是否在列表中-6.2\"><span class=\"toc-item-num\">6.2&nbsp;&nbsp;</span>判断字符串是否在列表中</a></span></li></ul></li><li><span><a href=\"#字符串\" data-toc-modified-id=\"字符串-7\"><span class=\"toc-item-num\">7&nbsp;&nbsp;</span>字符串</a></span><ul class=\"toc-item\"><li><span><a href=\"#字符串截取\" data-toc-modified-id=\"字符串截取-7.1\"><span class=\"toc-item-num\">7.1&nbsp;&nbsp;</span>字符串截取</a></span></li><li><span><a href=\"#判断字符串包含\" data-toc-modified-id=\"判断字符串包含-7.2\"><span class=\"toc-item-num\">7.2&nbsp;&nbsp;</span>判断字符串包含</a></span></li></ul></li></ul></div>"
   ]
  },
  {
   "cell_type": "markdown",
   "id": "b2fae8ed",
   "metadata": {},
   "source": [
    "## 统计脚本执行时长"
   ]
  },
  {
   "cell_type": "code",
   "execution_count": 8,
   "id": "c78c2142",
   "metadata": {
    "scrolled": true
   },
   "outputs": [
    {
     "name": "stdout",
     "output_type": "stream",
     "text": [
      "脚本执行时间：3 秒\n"
     ]
    }
   ],
   "source": [
    "%%bash\n",
    "\n",
    "start=$(date +%s)\n",
    "sleep 3\n",
    "end=$(date +%s)\n",
    "runtime=$((end-start))\n",
    "echo \"脚本执行时间：$runtime 秒\""
   ]
  },
  {
   "cell_type": "markdown",
   "id": "adf8eaab",
   "metadata": {},
   "source": [
    "## 遍历最近N天的日期"
   ]
  },
  {
   "cell_type": "code",
   "execution_count": 36,
   "id": "d4702db0",
   "metadata": {
    "scrolled": true
   },
   "outputs": [
    {
     "name": "stderr",
     "output_type": "stream",
     "text": [
      "date: illegal option -- d\n",
      "usage: date [-jnRu] [-r seconds|file] [-v[+|-]val[ymwdHMS]]\n",
      "            [-I[date | hours | minutes | seconds]]\n",
      "            [-f fmt date | [[[mm]dd]HH]MM[[cc]yy][.ss]] [+format]\n"
     ]
    },
    {
     "name": "stdout",
     "output_type": "stream",
     "text": [
      "\n"
     ]
    },
    {
     "name": "stderr",
     "output_type": "stream",
     "text": [
      "date: illegal option -- d\n",
      "usage: date [-jnRu] [-r seconds|file] [-v[+|-]val[ymwdHMS]]\n",
      "            [-I[date | hours | minutes | seconds]]\n",
      "            [-f fmt date | [[[mm]dd]HH]MM[[cc]yy][.ss]] [+format]\n"
     ]
    },
    {
     "name": "stdout",
     "output_type": "stream",
     "text": [
      "\n"
     ]
    },
    {
     "name": "stderr",
     "output_type": "stream",
     "text": [
      "date: illegal option -- d\n",
      "usage: date [-jnRu] [-r seconds|file] [-v[+|-]val[ymwdHMS]]\n",
      "            [-I[date | hours | minutes | seconds]]\n",
      "            [-f fmt date | [[[mm]dd]HH]MM[[cc]yy][.ss]] [+format]\n"
     ]
    },
    {
     "name": "stdout",
     "output_type": "stream",
     "text": [
      "\n"
     ]
    },
    {
     "name": "stderr",
     "output_type": "stream",
     "text": [
      "date: illegal option -- d\n",
      "usage: date [-jnRu] [-r seconds|file] [-v[+|-]val[ymwdHMS]]\n",
      "            [-I[date | hours | minutes | seconds]]\n",
      "            [-f fmt date | [[[mm]dd]HH]MM[[cc]yy][.ss]] [+format]\n"
     ]
    },
    {
     "name": "stdout",
     "output_type": "stream",
     "text": [
      "\n"
     ]
    },
    {
     "name": "stderr",
     "output_type": "stream",
     "text": [
      "date: illegal option -- d\n",
      "usage: date [-jnRu] [-r seconds|file] [-v[+|-]val[ymwdHMS]]\n",
      "            [-I[date | hours | minutes | seconds]]\n",
      "            [-f fmt date | [[[mm]dd]HH]MM[[cc]yy][.ss]] [+format]\n"
     ]
    },
    {
     "name": "stdout",
     "output_type": "stream",
     "text": [
      "\n"
     ]
    },
    {
     "name": "stderr",
     "output_type": "stream",
     "text": [
      "date: illegal option -- d\n",
      "usage: date [-jnRu] [-r seconds|file] [-v[+|-]val[ymwdHMS]]\n",
      "            [-I[date | hours | minutes | seconds]]\n",
      "            [-f fmt date | [[[mm]dd]HH]MM[[cc]yy][.ss]] [+format]\n"
     ]
    },
    {
     "name": "stdout",
     "output_type": "stream",
     "text": [
      "\n"
     ]
    },
    {
     "name": "stderr",
     "output_type": "stream",
     "text": [
      "date: illegal option -- d\n",
      "usage: date [-jnRu] [-r seconds|file] [-v[+|-]val[ymwdHMS]]\n",
      "            [-I[date | hours | minutes | seconds]]\n",
      "            [-f fmt date | [[[mm]dd]HH]MM[[cc]yy][.ss]] [+format]\n"
     ]
    },
    {
     "name": "stdout",
     "output_type": "stream",
     "text": [
      "\n"
     ]
    }
   ],
   "source": [
    "%%bash\n",
    "\n",
    "MODEL_DATE=\"20240312\"\n",
    "for ((i=0; i<7; i++)); do\n",
    "    DATE_TMP=$(date -d \"$i day ago ${MODEL_DATE}\" '+%Y%m%d')\n",
    "    echo ${DATE_TMP}\n",
    "done"
   ]
  },
  {
   "cell_type": "markdown",
   "id": "5b64143c",
   "metadata": {},
   "source": [
    "## 遍历小时（23点->0点）"
   ]
  },
  {
   "cell_type": "code",
   "execution_count": 6,
   "id": "ae06b896",
   "metadata": {
    "scrolled": false
   },
   "outputs": [
    {
     "name": "stdout",
     "output_type": "stream",
     "text": [
      "23 22 21 20 19 18 17 16 15 14 13 12 11 10 09 08 07 06 05 04 03 02 01 00 "
     ]
    }
   ],
   "source": [
    "%%bash\n",
    "\n",
    "for hour in {23..0}; do\n",
    "    formatted_hour=$(printf \"%02d\" $hour)  # 格式化小时，加前导零\n",
    "    echo -n \"$formatted_hour \"\n",
    "done"
   ]
  },
  {
   "cell_type": "code",
   "execution_count": 5,
   "id": "34e27441",
   "metadata": {},
   "outputs": [
    {
     "name": "stdout",
     "output_type": "stream",
     "text": [
      "23 22 21 20 19 18 17 16 15 14 13 12 11 10 09 08 07 06 05 04 03 02 01 00 "
     ]
    }
   ],
   "source": [
    "%%bash\n",
    "\n",
    "for ((hour=23; hour>=0; hour--)); do\n",
    "    formatted_hour=$(printf \"%02d\" $hour)  # 格式化小时，加前导零\n",
    "    echo -n \"$formatted_hour \"\n",
    "done"
   ]
  },
  {
   "cell_type": "markdown",
   "id": "bd209eb4",
   "metadata": {},
   "source": [
    "## 引号"
   ]
  },
  {
   "cell_type": "markdown",
   "id": "dcdc810d",
   "metadata": {},
   "source": [
    "- 单引号属于强引用，它会忽略所有被引起来的字符的特殊处理，被引用起来的字符会被原封不动的使用，唯一需要注意的是不允许引用自身\n",
    "- 双引号属于弱引用，它会对一些被引起来的字符进行特殊处理，主要包括以下情况： \n",
    "    1. \\$加变量名可以取变量的值\n",
    "    2. 反引号和\\$\\(\\)引起来的字符会被当做命令执行后替换原来的字符\n",
    "    3. 当需要使用字符（$  `  \"  \\）时必须进行转义，也就是在前面加 \\ "
   ]
  },
  {
   "cell_type": "markdown",
   "id": "052bcfd4",
   "metadata": {},
   "source": [
    "## 逻辑运算"
   ]
  },
  {
   "cell_type": "markdown",
   "id": "408756a0",
   "metadata": {},
   "source": [
    "### 逻辑或\n",
    "在Shell脚本中，可以使用逻辑或运算符`||`来连接多个条件，当其中一个条件为真时，整个表达式为真。逻辑或运算符可用于控制流程和条件判断语句中。"
   ]
  },
  {
   "cell_type": "code",
   "execution_count": 41,
   "id": "d13c1fab",
   "metadata": {},
   "outputs": [
    {
     "name": "stdout",
     "output_type": "stream",
     "text": [
      "条件成立\n"
     ]
    }
   ],
   "source": [
    "%%bash\n",
    "\n",
    "a=10\n",
    "b=20\n",
    "\n",
    "if [ $a -eq 10 ] || [ $b -eq 10 ]; then\n",
    "    echo \"条件成立\"\n",
    "else\n",
    "    echo \"条件不成立\"\n",
    "fi"
   ]
  },
  {
   "cell_type": "markdown",
   "id": "ffc096f3",
   "metadata": {},
   "source": [
    "### 逻辑与\n",
    "在Shell脚本中，可以使用逻辑或运算符`&&`来连接多个条件，当所有条件均为真时，整个表达式为真。逻辑或运算符可用于控制流程和条件判断语句中。"
   ]
  },
  {
   "cell_type": "code",
   "execution_count": 70,
   "id": "d468edad",
   "metadata": {},
   "outputs": [
    {
     "name": "stdout",
     "output_type": "stream",
     "text": [
      "条件不成立\n"
     ]
    }
   ],
   "source": [
    "%%bash\n",
    "\n",
    "a=10\n",
    "b=20\n",
    "\n",
    "if [ $a -eq 10 ] && [ $b -eq 10 ]; then\n",
    "    echo \"条件成立\"\n",
    "else\n",
    "    echo \"条件不成立\"\n",
    "fi"
   ]
  },
  {
   "cell_type": "markdown",
   "id": "6cf24609",
   "metadata": {},
   "source": [
    "### 逻辑非"
   ]
  },
  {
   "cell_type": "code",
   "execution_count": 44,
   "id": "7599f2eb",
   "metadata": {},
   "outputs": [
    {
     "name": "stdout",
     "output_type": "stream",
     "text": [
      "条件成立\n"
     ]
    }
   ],
   "source": [
    "%%bash\n",
    "\n",
    "a=10\n",
    "\n",
    "if [ ! $a -eq 20 ]; then\n",
    "    echo \"条件成立\"\n",
    "else\n",
    "    echo \"条件不成立\"\n",
    "fi"
   ]
  },
  {
   "cell_type": "markdown",
   "id": "3ada7e42",
   "metadata": {},
   "source": [
    "## 列表"
   ]
  },
  {
   "cell_type": "markdown",
   "id": "6c2529d6",
   "metadata": {},
   "source": [
    "### 定义与遍历列表"
   ]
  },
  {
   "cell_type": "code",
   "execution_count": 54,
   "id": "39d12ec9",
   "metadata": {},
   "outputs": [
    {
     "name": "stdout",
     "output_type": "stream",
     "text": [
      "python\n",
      "go\n",
      "mysql\n",
      "c++\n"
     ]
    }
   ],
   "source": [
    "%%bash\n",
    "\n",
    "for x in {python,go,mysql,c++}\n",
    "do\n",
    "    echo $x\n",
    "done"
   ]
  },
  {
   "cell_type": "code",
   "execution_count": 55,
   "id": "b02885f3",
   "metadata": {},
   "outputs": [
    {
     "name": "stdout",
     "output_type": "stream",
     "text": [
      "python\n",
      "go\n",
      "mysql\n",
      "c++\n"
     ]
    }
   ],
   "source": [
    "%%bash\n",
    "\n",
    "for x in python go mysql c++\n",
    "do\n",
    "    echo $x\n",
    "done"
   ]
  },
  {
   "cell_type": "code",
   "execution_count": 66,
   "id": "1895eff4",
   "metadata": {},
   "outputs": [
    {
     "name": "stdout",
     "output_type": "stream",
     "text": [
      "a\n",
      "b\n",
      "c\n",
      "d\n",
      "e\n",
      "f\n"
     ]
    }
   ],
   "source": [
    "%%bash\n",
    "\n",
    "arr=(\"a\" \"b\" \"c\" \"d\" \"e\" \"f\")\n",
    "\n",
    "for value in ${arr[@]}\n",
    "do\n",
    "  echo $value\n",
    "done"
   ]
  },
  {
   "cell_type": "code",
   "execution_count": 67,
   "id": "9507ca30",
   "metadata": {
    "scrolled": true
   },
   "outputs": [
    {
     "name": "stdout",
     "output_type": "stream",
     "text": [
      "index: 0, value: a\n",
      "index: 1, value: b\n",
      "index: 2, value: c\n",
      "index: 3, value: d\n",
      "index: 4, value: e\n",
      "index: 5, value: f\n"
     ]
    }
   ],
   "source": [
    "%%bash\n",
    "\n",
    "arr=(\"a\" \"b\" \"c\" \"d\" \"e\" \"f\")\n",
    "\n",
    "for ((i = 0; i < ${#arr[@]}; i++))\n",
    "do\n",
    "  echo \"index: ${i}, value: ${arr[$i]}\"\n",
    "done"
   ]
  },
  {
   "cell_type": "markdown",
   "id": "558241ca",
   "metadata": {},
   "source": [
    "### 判断字符串是否在列表中\n",
    "\n",
    "这个脚本首先定义了一个包含字符串的列表`my_list`，然后定义了要查找的字符串`search_string`。接着，使用`for`循环遍历列表，对每个列表元素进行比较，如果找到了相同的字符串，则输出提示信息，并使用`exit 0`退出脚本。如果遍历完整个列表都没有找到匹配的字符串，则输出另一个提示信息，并使用`exit 1`退出脚本。"
   ]
  },
  {
   "cell_type": "code",
   "execution_count": 47,
   "id": "f1227643",
   "metadata": {},
   "outputs": [
    {
     "name": "stdout",
     "output_type": "stream",
     "text": [
      "字符串 'banana' 在列表中\n"
     ]
    }
   ],
   "source": [
    "%%bash\n",
    "\n",
    "# 定义列表\n",
    "my_list=(\"apple\" \"banana\" \"orange\")\n",
    "\n",
    "# 要查找的字符串\n",
    "search_string=\"banana\"\n",
    "\n",
    "# 遍历列表\n",
    "for item in \"${my_list[@]}\"\n",
    "do\n",
    "    # 判断字符串是否在列表中\n",
    "    if [ \"$item\" == \"$search_string\" ]; then\n",
    "        echo \"字符串 '$search_string' 在列表中\"\n",
    "        # 找到后退出脚本\n",
    "        exit 0\n",
    "    fi\n",
    "done\n",
    "\n",
    "# 如果没有找到\n",
    "echo \"字符串 '$search_string' 不在列表中\"\n",
    "\n",
    "# 退出脚本\n",
    "exit 1"
   ]
  },
  {
   "cell_type": "markdown",
   "id": "aaefd6dc",
   "metadata": {},
   "source": [
    "## 字符串"
   ]
  },
  {
   "cell_type": "markdown",
   "id": "7a51385b",
   "metadata": {},
   "source": [
    "### 字符串截取"
   ]
  },
  {
   "cell_type": "code",
   "execution_count": 50,
   "id": "0193fe06",
   "metadata": {},
   "outputs": [
    {
     "name": "stdout",
     "output_type": "stream",
     "text": [
      "20231126\n",
      "18\n"
     ]
    }
   ],
   "source": [
    "%%bash\n",
    "\n",
    "time_str=\"20231126 18:00\"\n",
    "# ${待截取的字符串变量:起始位置:截取的字符数}\n",
    "date_str=$(echo ${time_str:0:8})\n",
    "hour_str=$(echo ${time_str:9:2})\n",
    "echo \"${date_str}\"\n",
    "echo \"${hour_str}\""
   ]
  },
  {
   "cell_type": "markdown",
   "id": "0ed27122",
   "metadata": {},
   "source": [
    "### 判断字符串包含\n",
    "\n",
    "判断 strA 是否包含 strB"
   ]
  },
  {
   "cell_type": "code",
   "execution_count": 57,
   "id": "1287736a",
   "metadata": {},
   "outputs": [
    {
     "name": "stdout",
     "output_type": "stream",
     "text": [
      "包含\n"
     ]
    }
   ],
   "source": [
    "%%bash\n",
    "\n",
    "# grep\n",
    "strA=\"long string\"\n",
    "strB=\"string\"\n",
    "result=$(echo $strA | grep \"${strB}\")\n",
    "if [[ \"$result\" != \"\" ]]\n",
    "then\n",
    "    echo \"包含\"\n",
    "else\n",
    "    echo \"不包含\"\n",
    "fi"
   ]
  },
  {
   "cell_type": "code",
   "execution_count": 58,
   "id": "b5a669de",
   "metadata": {},
   "outputs": [
    {
     "name": "stdout",
     "output_type": "stream",
     "text": [
      "包含\n"
     ]
    }
   ],
   "source": [
    "%%bash\n",
    "\n",
    "# 字符串运算\n",
    "strA=\"helloworld\"\n",
    "strB=\"low\"\n",
    "if [[ $strA =~ $strB ]]\n",
    "then\n",
    "    echo \"包含\"\n",
    "else\n",
    "    echo \"不包含\"\n",
    "fi"
   ]
  },
  {
   "cell_type": "code",
   "execution_count": 59,
   "id": "5701978a",
   "metadata": {},
   "outputs": [
    {
     "name": "stdout",
     "output_type": "stream",
     "text": [
      "包含\n"
     ]
    }
   ],
   "source": [
    "%%bash\n",
    "\n",
    "# 通配符\n",
    "A=\"helloworld\"\n",
    "B=\"low\"\n",
    "if [[ $A == *$B* ]]\n",
    "then\n",
    "    echo \"包含\"\n",
    "else\n",
    "    echo \"不包含\"\n",
    "fi"
   ]
  }
 ],
 "metadata": {
  "kernelspec": {
   "display_name": "Python 3 (ipykernel)",
   "language": "python",
   "name": "python3"
  },
  "language_info": {
   "codemirror_mode": {
    "name": "ipython",
    "version": 3
   },
   "file_extension": ".py",
   "mimetype": "text/x-python",
   "name": "python",
   "nbconvert_exporter": "python",
   "pygments_lexer": "ipython3",
   "version": "3.9.6"
  },
  "toc": {
   "base_numbering": 1,
   "nav_menu": {},
   "number_sections": true,
   "sideBar": true,
   "skip_h1_title": false,
   "title_cell": "Table of Contents",
   "title_sidebar": "Contents",
   "toc_cell": true,
   "toc_position": {
    "height": "779px",
    "left": "26px",
    "top": "192px",
    "width": "272px"
   },
   "toc_section_display": true,
   "toc_window_display": true
  }
 },
 "nbformat": 4,
 "nbformat_minor": 5
}
