{
 "cells": [
  {
   "cell_type": "markdown",
   "id": "7f5ff847",
   "metadata": {},
   "source": [
    "## 安装 scikit-learn\n",
    "\n",
    "命令：pip/pip3 install -U scikit-learn"
   ]
  },
  {
   "cell_type": "markdown",
   "id": "d91b7948",
   "metadata": {},
   "source": [
    "## digits数据集\n",
    "[数据集介绍](https://scikit-learn.org/stable/auto_examples/datasets/plot_digits_last_image.html)"
   ]
  },
  {
   "cell_type": "code",
   "execution_count": 3,
   "id": "2c649996",
   "metadata": {
    "scrolled": true
   },
   "outputs": [],
   "source": [
    "from sklearn.datasets import load_digits"
   ]
  },
  {
   "cell_type": "code",
   "execution_count": 5,
   "id": "ab32c88e",
   "metadata": {},
   "outputs": [
    {
     "data": {
      "image/png": "[encoded data removed]",
      "text/plain": [
       "<Figure size 300x300 with 1 Axes>"
      ]
     },
     "metadata": {},
     "output_type": "display_data"
    }
   ],
   "source": [
    "import matplotlib.pyplot as plt\n",
    "%matplotlib inline\n",
    "\n",
    "# Load the digits dataset\n",
    "digits = load_digits()\n",
    "\n",
    "# Display the last digit\n",
    "plt.figure(1, figsize=(3, 3))\n",
    "plt.imshow(digits.images[-1], cmap=plt.cm.gray_r, interpolation=\"nearest\")\n",
    "plt.show()"
   ]
  },
  {
   "cell_type": "code",
   "execution_count": 6,
   "id": "769715a9",
   "metadata": {},
   "outputs": [
    {
     "data": {
      "text/plain": [
       "((1797, 64), (1797,))"
      ]
     },
     "execution_count": 6,
     "metadata": {},
     "output_type": "execute_result"
    }
   ],
   "source": [
    "from sklearn.datasets import load_digits\n",
    "\n",
    "digits = load_digits()  # 读取数据\n",
    "\n",
    "digits_X = digits.data  # 特征值\n",
    "digits_y = digits.target  # 标签值\n",
    "\n",
    "digits_X.shape, digits_y.shape"
   ]
  },
  {
   "cell_type": "markdown",
   "id": "c78831a8",
   "metadata": {},
   "source": [
    "## 数据预处理\n",
    "\n",
    "首先，我们需要将目标值处理成独热编码的形式。"
   ]
  },
  {
   "cell_type": "code",
   "execution_count": 8,
   "id": "c2b299ee",
   "metadata": {
    "scrolled": true
   },
   "outputs": [
    {
     "data": {
      "text/plain": [
       "array([[1., 0., 0., ..., 0., 0., 0.],\n",
       "       [0., 1., 0., ..., 0., 0., 0.],\n",
       "       [0., 0., 1., ..., 0., 0., 0.],\n",
       "       ...,\n",
       "       [0., 0., 0., ..., 0., 1., 0.],\n",
       "       [0., 0., 0., ..., 0., 0., 1.],\n",
       "       [0., 0., 0., ..., 0., 1., 0.]])"
      ]
     },
     "execution_count": 8,
     "metadata": {},
     "output_type": "execute_result"
    }
   ],
   "source": [
    "import numpy as np\n",
    "\n",
    "digits_y = np.eye(10)[digits_y.reshape(-1)]\n",
    "digits_y"
   ]
  },
  {
   "cell_type": "code",
   "execution_count": 9,
   "id": "45543a77",
   "metadata": {},
   "outputs": [
    {
     "data": {
      "text/plain": [
       "((1437, 64), (360, 64), (1437, 10), (360, 10))"
      ]
     },
     "execution_count": 9,
     "metadata": {},
     "output_type": "execute_result"
    }
   ],
   "source": [
    "from sklearn.model_selection import train_test_split\n",
    "\n",
    "X_train, X_test, y_train, y_test = train_test_split(\n",
    "    digits_X, digits_y, test_size=0.2, random_state=1)\n",
    "\n",
    "X_train.shape, X_test.shape, y_train.shape, y_test.shape"
   ]
  },
  {
   "cell_type": "markdown",
   "id": "9f7b4ab7",
   "metadata": {},
   "source": [
    "## 定义模型类"
   ]
  },
  {
   "cell_type": "code",
   "execution_count": 11,
   "id": "1303b9aa",
   "metadata": {},
   "outputs": [
    {
     "name": "stderr",
     "output_type": "stream",
     "text": [
      "/Users/yilonghao/Library/Python/3.9/lib/python/site-packages/urllib3/__init__.py:34: NotOpenSSLWarning: urllib3 v2.0 only supports OpenSSL 1.1.1+, currently the 'ssl' module is compiled with 'LibreSSL 2.8.3'. See: https://github.com/urllib3/urllib3/issues/3020\n",
      "  warnings.warn(\n"
     ]
    }
   ],
   "source": [
    "import tensorflow as tf\n",
    "\n",
    "class Model(object):\n",
    "    def __init__(self):\n",
    "        # 随机初始化张量参数\n",
    "        self.W1 = tf.Variable(tf.random.normal([64, 30]))\n",
    "        self.b1 = tf.Variable(tf.random.normal([30]))\n",
    "        self.W2 = tf.Variable(tf.random.normal([30, 10]))\n",
    "        self.b2 = tf.Variable(tf.random.normal([10]))\n",
    "\n",
    "    def __call__(self, x):\n",
    "        x = tf.cast(x, tf.float32)  # 转换输入数据类型\n",
    "        # 线性计算 + RELU 激活\n",
    "        fc1 = tf.nn.relu(tf.add(tf.matmul(x, self.W1), self.b1))  # 全连接层 1\n",
    "        fc2 = tf.add(tf.matmul(fc1, self.W2), self.b2)  # 全连接层 2\n",
    "        return fc2"
   ]
  },
  {
   "attachments": {},
   "cell_type": "markdown",
   "id": "16d3385f",
   "metadata": {},
   "source": [
    "## 定义损失函数\n",
    "\n",
    "完成前向传播模型构建后，下一个步骤是定义损失函数。这里，我们选择深度神经网络构建过程中十分常用的一个损失函数：交叉熵损失函数。交叉熵损失函数本质上就是我们前面学过的对数损失函数。交叉熵主要用于度量两个概率分布间的差异性信息。\n",
    "$$\n",
    "H_{y}^{'}(y) =  = -\\sum_{i} y_{i}^{'} log(y_{i})\n",
    "$$\n",
    "\n",
    "TensorFlow 中给出了交叉熵损失函数 + Softmax 函数二合一 API：tf.nn.softmax_cross_entropy_with_logits 。下面我们就可以直接使用该函数，其中 logits 是模型输出，labels 为样本的真实值。该 API 会返回每个样本的损失计算结果，所以我们会使用 tf.reduce_mean 求得平均值，从而得到在训练集上的损失。"
   ]
  },
  {
   "cell_type": "code",
   "execution_count": 14,
   "id": "502ae087",
   "metadata": {},
   "outputs": [],
   "source": [
    "def loss_fn(model, x, y):\n",
    "    preds = model(x)\n",
    "    return tf.reduce_mean(tf.nn.softmax_cross_entropy_with_logits(logits=preds, labels=y))"
   ]
  },
  {
   "cell_type": "markdown",
   "id": "10940338",
   "metadata": {},
   "source": [
    "## 模型训练\n",
    "有了损失函数，接下来就是定义优化器求得全局损失的最小值了。这里我们不再使用梯度下降，而是深度学习中更为常用的 Adam 优化器。Adam 实际上就是一种数学优化方法，Adam 的全称为 Adaptive Moment Estimation，它是一种自适应学习率的算法，其针对每一个参数都计算自适应的学习率。"
   ]
  },
  {
   "cell_type": "code",
   "execution_count": 15,
   "id": "e5fe889f",
   "metadata": {},
   "outputs": [
    {
     "name": "stdout",
     "output_type": "stream",
     "text": [
      "Epoch [000/200], Loss: [224.6159]\n",
      "Epoch [100/200], Loss: [3.5186]\n",
      "Epoch [200/200], Loss: [1.7377]\n"
     ]
    }
   ],
   "source": [
    "EPOCHS = 200  # 迭代此时\n",
    "LEARNING_RATE = 0.02  # 学习率\n",
    "model = Model()  # 实例化模型类\n",
    "for epoch in range(EPOCHS):\n",
    "    with tf.GradientTape() as tape:  # 追踪梯度\n",
    "        loss = loss_fn(model, X_train, y_train)\n",
    "\n",
    "    trainable_variables = [model.W1, model.b1, model.W2, model.b2]  # 需优化参数列表\n",
    "    grads = tape.gradient(loss, trainable_variables)  # 计算梯度\n",
    "\n",
    "    optimizer = tf.optimizers.Adam(learning_rate=LEARNING_RATE)  # Adam 优化器\n",
    "    optimizer.apply_gradients(zip(grads, trainable_variables))  # 更新梯度\n",
    "\n",
    "    # 每 100 个 Epoch 输出各项指标\n",
    "    if epoch == 0:\n",
    "        print(f'Epoch [000/{EPOCHS}], Loss: [{loss:.4f}]')\n",
    "    elif (epoch + 1) % 100 == 0:\n",
    "        print(f'Epoch [{epoch+1}/{EPOCHS}], Loss: [{loss:.4f}]')"
   ]
  },
  {
   "cell_type": "markdown",
   "id": "4cc7ea3b",
   "metadata": {},
   "source": [
    "## 模型评估"
   ]
  },
  {
   "cell_type": "code",
   "execution_count": 16,
   "id": "a99e9137",
   "metadata": {},
   "outputs": [],
   "source": [
    "def accuracy_fn(logits, labels):\n",
    "    preds = tf.argmax(logits, axis=1)  # 取值最大的索引，正好对应字符标签\n",
    "    labels = tf.argmax(labels, axis=1)\n",
    "    return tf.reduce_mean(tf.cast(tf.equal(preds, labels), tf.float32))"
   ]
  },
  {
   "cell_type": "code",
   "execution_count": 17,
   "id": "fd5b65bc",
   "metadata": {},
   "outputs": [
    {
     "name": "stdout",
     "output_type": "stream",
     "text": [
      "Epoch [000/500], Accuracy: [0.12], Loss: [316.3259]\n",
      "Epoch [100/500], Accuracy: [0.80], Loss: [2.5871]\n",
      "Epoch [200/500], Accuracy: [0.84], Loss: [1.2078]\n",
      "Epoch [300/500], Accuracy: [0.85], Loss: [0.6482]\n",
      "Epoch [400/500], Accuracy: [0.86], Loss: [0.4916]\n",
      "Epoch [500/500], Accuracy: [0.86], Loss: [0.3911]\n"
     ]
    }
   ],
   "source": [
    "EPOCHS = 500  # 迭代此时\n",
    "LEARNING_RATE = 0.02  # 学习率\n",
    "model = Model()  # 实例化模型类\n",
    "for epoch in range(EPOCHS):\n",
    "    with tf.GradientTape() as tape:  # 追踪梯度\n",
    "        loss = loss_fn(model, X_train, y_train)\n",
    "\n",
    "    trainable_variables = [model.W1, model.b1, model.W2, model.b2]  # 需优化参数列表\n",
    "    grads = tape.gradient(loss, trainable_variables)  # 计算梯度\n",
    "\n",
    "    optimizer = tf.optimizers.Adam(learning_rate=LEARNING_RATE)  # Adam 优化器\n",
    "    optimizer.apply_gradients(zip(grads, trainable_variables))  # 更新梯度\n",
    "\n",
    "    accuracy = accuracy_fn(model(X_test), y_test)  # 计算准确度\n",
    "\n",
    "    # 每 100 个 Epoch 输出各项指标\n",
    "    if epoch == 0:\n",
    "        print(f'Epoch [000/{EPOCHS}], Accuracy: [{accuracy:.2f}], Loss: [{loss:.4f}]')\n",
    "    elif (epoch + 1) % 100 == 0:\n",
    "        print(f'Epoch [{epoch+1}/{EPOCHS}], Accuracy: [{accuracy:.2f}], Loss: [{loss:.4f}]')"
   ]
  }
 ],
 "metadata": {
  "kernelspec": {
   "display_name": "Python 3 (ipykernel)",
   "language": "python",
   "name": "python3"
  },
  "language_info": {
   "codemirror_mode": {
    "name": "ipython",
    "version": 3
   },
   "file_extension": ".py",
   "mimetype": "text/x-python",
   "name": "python",
   "nbconvert_exporter": "python",
   "pygments_lexer": "ipython3",
   "version": "3.9.6"
  }
 },
 "nbformat": 4,
 "nbformat_minor": 5
}
