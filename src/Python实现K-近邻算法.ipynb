{
 "cells": [
  {
   "cell_type": "markdown",
   "id": "98a728f3",
   "metadata": {},
   "source": [
    "## 数据prepare"
   ]
  },
  {
   "cell_type": "code",
   "execution_count": 2,
   "id": "becddd41",
   "metadata": {},
   "outputs": [],
   "source": [
    "import numpy as np\n",
    "\n",
    "\n",
    "def create_data():\n",
    "    \"\"\"创建数据集\"\"\"\n",
    "    features = np.array(\n",
    "        [[2.88, 3.05], [3.1, 2.45], [3.05, 2.8], [2.9, 2.7], [2.75, 3.4],\n",
    "         [3.23, 2.9], [3.2, 3.75], [3.5, 2.9], [3.65, 3.6], [3.35, 3.3]])\n",
    "    labels = ['A', 'A', 'A', 'A', 'A', 'B', 'B', 'B', 'B', 'B']\n",
    "    return features, labels"
   ]
  },
  {
   "cell_type": "code",
   "execution_count": 3,
   "id": "7ce403cd",
   "metadata": {},
   "outputs": [
    {
     "name": "stdout",
     "output_type": "stream",
     "text": [
      "features: \n",
      " [[2.88 3.05]\n",
      " [3.1  2.45]\n",
      " [3.05 2.8 ]\n",
      " [2.9  2.7 ]\n",
      " [2.75 3.4 ]\n",
      " [3.23 2.9 ]\n",
      " [3.2  3.75]\n",
      " [3.5  2.9 ]\n",
      " [3.65 3.6 ]\n",
      " [3.35 3.3 ]]\n",
      "labels: \n",
      " ['A', 'A', 'A', 'A', 'A', 'B', 'B', 'B', 'B', 'B']\n"
     ]
    }
   ],
   "source": [
    "features, labels = create_data()\n",
    "print('features: \\n', features)\n",
    "print('labels: \\n', labels)"
   ]
  },
  {
   "cell_type": "markdown",
   "id": "7bcc68f7",
   "metadata": {},
   "source": [
    "## 数据可视化"
   ]
  },
  {
   "cell_type": "code",
   "execution_count": 4,
   "id": "4a969180",
   "metadata": {},
   "outputs": [
    {
     "data": {
      "text/plain": [
       "<matplotlib.collections.PathCollection at 0x107952ac0>"
      ]
     },
     "execution_count": 4,
     "metadata": {},
     "output_type": "execute_result"
    },
    {
     "data": {
      "image/png": "[encoded data removed]",
      "text/plain": [
       "<Figure size 500x500 with 1 Axes>"
      ]
     },
     "metadata": {},
     "output_type": "display_data"
    }
   ],
   "source": [
    "from matplotlib import pyplot as plt\n",
    "%matplotlib inline\n",
    "\n",
    "plt.figure(figsize=(5, 5))\n",
    "plt.xlim((2.4, 3.8))\n",
    "plt.ylim((2.4, 3.8))\n",
    "\n",
    "# 返回每个数据的x特征值\n",
    "x_feature = list(map(lambda x: x[0], features))\n",
    "\n",
    "# 返回每个数据的特征值\n",
    "y_feature = list(map(lambda y: y[1], features))\n",
    "\n",
    "# 在画布上绘画出\"A\"类标签的数据点\n",
    "plt.scatter(x_feature[:5], y_feature[:5], c=\"b\")\n",
    "\n",
    "# 在画布上绘画出\"B\"类标签的数据点\n",
    "plt.scatter(x_feature[5:], y_feature[5:], c=\"g\")\n",
    "\n",
    "# 待测试点的坐标为 [3.1，3.2]\n",
    "plt.scatter([3.18], [3.15], c=\"r\", marker=\"x\")"
   ]
  },
  {
   "cell_type": "markdown",
   "id": "099628fe",
   "metadata": {},
   "source": [
    "## 曼哈顿距离\n",
    "假设向量维度为n，计算公式为：\n",
    "$$\n",
    "d_{(x_i, x_j)} = \\sum_{l=1}^n \\lvert x_i^{l} - x_j^{l} \\rvert\n",
    "$$"
   ]
  },
  {
   "cell_type": "code",
   "execution_count": 5,
   "id": "36577e14",
   "metadata": {},
   "outputs": [],
   "source": [
    "def d_man(x, y):\n",
    "    \"\"\"计算曼哈顿距离\"\"\"\n",
    "    d = np.sum(np.abs(x - y))\n",
    "    return d"
   ]
  },
  {
   "cell_type": "code",
   "execution_count": 6,
   "id": "2b6660c8",
   "metadata": {},
   "outputs": [
    {
     "name": "stdout",
     "output_type": "stream",
     "text": [
      "x: [3.1 3.2]\n",
      "y: [2.5 2.8]\n",
      "1.0000000000000004\n"
     ]
    }
   ],
   "source": [
    "x = np.array([3.1, 3.2])  # 任意指定 2 点计算\n",
    "print(\"x:\", x)\n",
    "\n",
    "y = np.array([2.5, 2.8])\n",
    "print(\"y:\", y)\n",
    "\n",
    "print(d_man(x, y))"
   ]
  },
  {
   "cell_type": "markdown",
   "id": "17ca8708",
   "metadata": {},
   "source": [
    "## 欧式距离\n",
    "$$\n",
    "d_{(x_i, x_j)} = \\sqrt{\\sum_{l=1}^n ( x_i^{l} - x_j^{l} ) ^ 2}\n",
    "$$"
   ]
  },
  {
   "cell_type": "code",
   "execution_count": 7,
   "id": "de9b7663",
   "metadata": {},
   "outputs": [],
   "source": [
    "def d_euc(x, y):\n",
    "    \"\"\"计算欧式距离\"\"\"\n",
    "    d = np.sqrt(np.sum(np.square(x - y)))\n",
    "    return d"
   ]
  },
  {
   "cell_type": "code",
   "execution_count": 8,
   "id": "a2ac9968",
   "metadata": {
    "scrolled": true
   },
   "outputs": [
    {
     "name": "stdout",
     "output_type": "stream",
     "text": [
      "x: [0.79651599 0.26577555 0.70991003 0.14397726 0.09447417 0.59631493\n",
      " 0.28831733 0.46790091 0.67954358 0.38705983]\n",
      "y: [0.27284026 0.29441956 0.45179951 0.10800922 0.03910328 0.50449281\n",
      " 0.78737097 0.69138483 0.68104269 0.76077072]\n",
      "0.8905786855330884\n"
     ]
    }
   ],
   "source": [
    "x = np.random.random(10)  # 随机生成 10 个数的数组作为 x 特征的值\n",
    "print(\"x:\", x)\n",
    "\n",
    "y = np.random.random(10)\n",
    "print(\"y:\", y)\n",
    "\n",
    "distance_euc = d_euc(x, y)\n",
    "print(distance_euc)\n"
   ]
  },
  {
   "cell_type": "markdown",
   "id": "dd14ffa0",
   "metadata": {},
   "source": [
    "## 多数表决算法"
   ]
  },
  {
   "cell_type": "code",
   "execution_count": 11,
   "id": "e2fb188a",
   "metadata": {},
   "outputs": [
    {
     "data": {
      "text/plain": [
       "[('C', 6), ('D', 5), ('A', 3), ('B', 2)]"
      ]
     },
     "execution_count": 11,
     "metadata": {},
     "output_type": "execute_result"
    }
   ],
   "source": [
    "def majority_voting(class_count):\n",
    "    \"\"\"多数表决算法\"\"\"\n",
    "    sorted_class_count = sorted(\n",
    "        class_count.items(), key=lambda x: x[1], reverse=True)\n",
    "    return sorted_class_count\n",
    "\n",
    "arr = {'A': 3, 'B': 2, \"C\": 6, \"D\": 5}\n",
    "majority_voting(arr)"
   ]
  },
  {
   "cell_type": "markdown",
   "id": "d6e31024",
   "metadata": {},
   "source": [
    "## KNN算法实现"
   ]
  },
  {
   "cell_type": "code",
   "execution_count": 23,
   "id": "aa1fc404",
   "metadata": {},
   "outputs": [],
   "source": [
    "def knn_classify(test_data, train_data, labels, k):\n",
    "    \"\"\"knn算法实现\"\"\"\n",
    "    # 创建一个空的数组用于存放距离\n",
    "    distances = np.array([])\n",
    "    \n",
    "    # 使用欧式距离计算数据相似度\n",
    "    for each_data in train_data:\n",
    "        d = d_euc(test_data, each_data)\n",
    "        distances = np.append(distances, d)\n",
    "    \n",
    "    # 获取按距离从小到大排序后的索引\n",
    "    sorted_distance_index = distances.argsort()\n",
    "    sorted_distance = np.sort(distances)\n",
    "    r = (sorted_distance[k] + sorted_distance[k-1]) / 2  # 计算\n",
    "    \n",
    "    # 多数表决\n",
    "    class_count = {}\n",
    "    for i in range(k):\n",
    "        vote_label = labels[sorted_distance_index[i]]\n",
    "        class_count[vote_label] = class_count.get(vote_label, 0) + 1\n",
    "    final_label = majority_voting(class_count)\n",
    "    \n",
    "    return final_label, r"
   ]
  },
  {
   "cell_type": "code",
   "execution_count": 24,
   "id": "62839d94",
   "metadata": {},
   "outputs": [
    {
     "data": {
      "text/plain": [
       "[('B', 3), ('A', 2)]"
      ]
     },
     "execution_count": 24,
     "metadata": {},
     "output_type": "execute_result"
    }
   ],
   "source": [
    "test_data = np.array([3.18, 3.15])\n",
    "final_label, r = knn_classify(test_data, features, labels, 5)\n",
    "final_label"
   ]
  },
  {
   "cell_type": "markdown",
   "id": "3ef21b82",
   "metadata": {},
   "source": [
    "## 结果展示"
   ]
  },
  {
   "cell_type": "code",
   "execution_count": 15,
   "id": "afa4eae7",
   "metadata": {},
   "outputs": [],
   "source": [
    "def circle(r, a, b):\n",
    "    \"\"\"画圆，这里采用极坐标的方式对圆进行表示 ：x=r*cosθ，y=r*sinθ\"\"\"\n",
    "    theta = np.arange(0, 2*np.pi, 0.01)\n",
    "    x = a+r * np.cos(theta)\n",
    "    y = b+r * np.sin(theta)\n",
    "    return x, y"
   ]
  },
  {
   "cell_type": "code",
   "execution_count": 18,
   "id": "a5ccf2bc",
   "metadata": {},
   "outputs": [
    {
     "data": {
      "text/plain": [
       "[<matplotlib.lines.Line2D at 0x107c132b0>]"
      ]
     },
     "execution_count": 18,
     "metadata": {},
     "output_type": "execute_result"
    },
    {
     "data": {
      "image/png": "[encoded data removed]",
      "text/plain": [
       "<Figure size 500x500 with 1 Axes>"
      ]
     },
     "metadata": {},
     "output_type": "display_data"
    }
   ],
   "source": [
    "plt.figure(figsize=(5, 5))\n",
    "plt.xlim((2.4, 3.8))\n",
    "plt.ylim((2.4, 3.8))\n",
    "\n",
    "# 返回每个数据的 x 特征值\n",
    "x_feature = list(map(lambda x: x[0], features))\n",
    "y_feature = list(map(lambda y: y[1], features))\n",
    "\n",
    "# 在画布上绘画出\"A\"类标签的数据点\n",
    "plt.scatter(x_feature[:5], y_feature[:5], c=\"b\")\n",
    "\n",
    "# 在画布上绘画出\"B\"类标签的数据点\n",
    "plt.scatter(x_feature[5:], y_feature[5:], c=\"g\")\n",
    "\n",
    "# 待测试点的坐标为 [3.18，3.15]\n",
    "plt.scatter([3.18], [3.15], c=\"r\", marker=\"x\")\n",
    "\n",
    "k_circle_x, k_circle_y = circle(r, 3.18, 3.15)\n",
    "plt.plot(k_circle_x, k_circle_y)"
   ]
  }
 ],
 "metadata": {
  "kernelspec": {
   "display_name": "Python 3 (ipykernel)",
   "language": "python",
   "name": "python3"
  },
  "language_info": {
   "codemirror_mode": {
    "name": "ipython",
    "version": 3
   },
   "file_extension": ".py",
   "mimetype": "text/x-python",
   "name": "python",
   "nbconvert_exporter": "python",
   "pygments_lexer": "ipython3",
   "version": "3.9.6"
  },
  "toc": {
   "base_numbering": 1,
   "nav_menu": {},
   "number_sections": true,
   "sideBar": true,
   "skip_h1_title": false,
   "title_cell": "Table of Contents",
   "title_sidebar": "Contents",
   "toc_cell": false,
   "toc_position": {},
   "toc_section_display": true,
   "toc_window_display": false
  }
 },
 "nbformat": 4,
 "nbformat_minor": 5
}
