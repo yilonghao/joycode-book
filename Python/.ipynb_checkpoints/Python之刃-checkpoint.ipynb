{
 "cells": [
  {
   "cell_type": "markdown",
   "id": "4d37e0c6",
   "metadata": {
    "toc": true
   },
   "source": [
    "<h1>Table of Contents<span class=\"tocSkip\"></span></h1>\n",
    "<div class=\"toc\"><ul class=\"toc-item\"><li><span><a href=\"#正则表达式\" data-toc-modified-id=\"正则表达式-1\"><span class=\"toc-item-num\">1&nbsp;&nbsp;</span>正则表达式</a></span><ul class=\"toc-item\"><li><span><a href=\"#统计一个字符串中汉字的个数\" data-toc-modified-id=\"统计一个字符串中汉字的个数-1.1\"><span class=\"toc-item-num\">1.1&nbsp;&nbsp;</span>统计一个字符串中汉字的个数</a></span></li></ul></li><li><span><a href=\"#计算威尔逊打分\" data-toc-modified-id=\"计算威尔逊打分-2\"><span class=\"toc-item-num\">2&nbsp;&nbsp;</span>计算威尔逊打分</a></span></li><li><span><a href=\"#Python实现数据批（batch）处理\" data-toc-modified-id=\"Python实现数据批（batch）处理-3\"><span class=\"toc-item-num\">3&nbsp;&nbsp;</span>Python实现数据批（batch）处理</a></span></li></ul></div>"
   ]
  },
  {
   "cell_type": "markdown",
   "id": "651fbe4c",
   "metadata": {},
   "source": [
    "## 正则表达式"
   ]
  },
  {
   "cell_type": "markdown",
   "id": "b574b29e",
   "metadata": {},
   "source": [
    "### 统计一个字符串中汉字的个数\n",
    "\n",
    "在下述代码中：\n",
    "\n",
    "1. `re.findall(r'[\\u4e00-\\u9fff]', s)` 使用正则表达式匹配字符串 `s` 中的所有汉字。\n",
    "2. `len(chinese_characters)` 返回匹配到的汉字列表的长度，也就是字符串中汉字的个数。"
   ]
  },
  {
   "cell_type": "code",
   "execution_count": 2,
   "id": "aa14d4a9",
   "metadata": {
    "scrolled": true
   },
   "outputs": [
    {
     "name": "stdout",
     "output_type": "stream",
     "text": [
      "按汉字计算的字符串长度是: 18\n"
     ]
    }
   ],
   "source": [
    "import re\n",
    "\n",
    "\n",
    "def length_by_chinese_characters(s):\n",
    "    # 使用正则表达式匹配所有汉字\n",
    "    # chinese_characters = re.findall(ur'[\\u4e00-\\u9fff]', s)  # python2\n",
    "    chinese_characters = re.findall(r'[\\u4e00-\\u9fff]', s)\n",
    "    return len(chinese_characters)\n",
    "\n",
    "\n",
    "# 示例字符串\n",
    "text = \"这是一个示例字符串，包含汉字和英文字符。\"\n",
    "result = length_by_chinese_characters(text)\n",
    "print(f\"按汉字计算的字符串长度是: {result}\")"
   ]
  },
  {
   "cell_type": "markdown",
   "id": "e46f12ab",
   "metadata": {},
   "source": [
    "## 计算威尔逊打分\n",
    "\n",
    "威尔逊得分（Wilson score）间隔是一个统计方法，用于在给定成功次数和总次数的情况下，计算成功率的置信区间。这在评级和排序系统中非常有用，尤其是当你希望在样本量较小时获得较为可靠的估计值。"
   ]
  },
  {
   "cell_type": "code",
   "execution_count": 6,
   "id": "7cb6bfdb",
   "metadata": {},
   "outputs": [
    {
     "name": "stdout",
     "output_type": "stream",
     "text": [
      "0\n",
      "0.9914179631436058\n",
      "0.12883065371189042\n",
      "0\n"
     ]
    }
   ],
   "source": [
    "import math\n",
    "\n",
    "\n",
    "def wilson_score_lower_bound(pos, total, confidence=0.95):\n",
    "    \"\"\"\n",
    "    计算威尔逊得分下界\n",
    "    :param pos: 正面评价数量（成功次数）\n",
    "    :param total: 总评价数量（总次数）\n",
    "    :param confidence: 置信水平（默认0.95）\n",
    "    :return: 威尔逊得分下界\n",
    "    \"\"\"\n",
    "    if total == 0:\n",
    "        return 0\n",
    "    \n",
    "    if pos > total:\n",
    "        return 0\n",
    "\n",
    "    z = abs(math.erf(confidence / math.sqrt(2)) * math.sqrt(2))\n",
    "    phat = pos / total\n",
    "    lower_bound = (phat + z**2 / (2 * total) - z * math.sqrt((phat * (1 - phat) + z**2 / (4 * total)) / total)) / (1 + z**2 / total)\n",
    "    return lower_bound\n",
    "\n",
    "print(wilson_score_lower_bound(2, 0))\n",
    "print(wilson_score_lower_bound(100, 100))\n",
    "print(wilson_score_lower_bound(16, 100))\n",
    "print(wilson_score_lower_bound(106, 100))"
   ]
  },
  {
   "cell_type": "markdown",
   "id": "ddb5c647",
   "metadata": {},
   "source": [
    "## Python实现数据批（batch）处理"
   ]
  },
  {
   "cell_type": "code",
   "execution_count": 36,
   "id": "fda5cfb0",
   "metadata": {},
   "outputs": [
    {
     "name": "stdout",
     "output_type": "stream",
     "text": [
      "range(1, 11)\n",
      "range(11, 21)\n",
      "range(21, 31)\n",
      "range(31, 41)\n",
      "range(41, 51)\n",
      "range(51, 61)\n",
      "range(61, 71)\n",
      "range(71, 81)\n",
      "range(81, 91)\n",
      "range(91, 98)\n"
     ]
    }
   ],
   "source": [
    "def batch_process(lst, batch_size):\n",
    "    \"\"\"\n",
    "    将列表按批次分割处理。\n",
    "    :param lst: 要处理的列表。\n",
    "    :param batch_size: 每个批次的大小。\n",
    "    :return: 一个生成器，每次生成一个批次。\n",
    "    \"\"\"\n",
    "    for i in range(0, len(lst), batch_size):\n",
    "        yield lst[i:i + batch_size]\n",
    "\n",
    "# 示例用法\n",
    "data = range(1, 98)\n",
    "batch_size = 10\n",
    "\n",
    "for batch in batch_process(data, batch_size):\n",
    "    print(batch)\n",
    "    # 在此处添加处理批次的逻辑，例如：\n",
    "    # process_batch(batch)"
   ]
  },
  {
   "cell_type": "code",
   "execution_count": null,
   "id": "b59f19e1",
   "metadata": {},
   "outputs": [],
   "source": []
  }
 ],
 "metadata": {
  "kernelspec": {
   "display_name": "Python 3 (ipykernel)",
   "language": "python",
   "name": "python3"
  },
  "language_info": {
   "codemirror_mode": {
    "name": "ipython",
    "version": 3
   },
   "file_extension": ".py",
   "mimetype": "text/x-python",
   "name": "python",
   "nbconvert_exporter": "python",
   "pygments_lexer": "ipython3",
   "version": "3.9.6"
  },
  "toc": {
   "base_numbering": 1,
   "nav_menu": {},
   "number_sections": true,
   "sideBar": true,
   "skip_h1_title": false,
   "title_cell": "Table of Contents",
   "title_sidebar": "Contents",
   "toc_cell": true,
   "toc_position": {},
   "toc_section_display": true,
   "toc_window_display": false
  }
 },
 "nbformat": 4,
 "nbformat_minor": 5
}
