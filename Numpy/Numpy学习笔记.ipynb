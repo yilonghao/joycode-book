{
 "cells": [
  {
   "cell_type": "markdown",
   "id": "9db90b27",
   "metadata": {
    "toc": true
   },
   "source": [
    "<h1>Table of Contents<span class=\"tocSkip\"></span></h1>\n",
    "<div class=\"toc\"><ul class=\"toc-item\"><li><span><a href=\"#test\" data-toc-modified-id=\"test-1\"><span class=\"toc-item-num\">1&nbsp;&nbsp;</span>test</a></span><ul class=\"toc-item\"><li><span><a href=\"#np.meshgrid\" data-toc-modified-id=\"np.meshgrid-1.1\"><span class=\"toc-item-num\">1.1&nbsp;&nbsp;</span>np.meshgrid</a></span></li><li><span><a href=\"#np.c_\" data-toc-modified-id=\"np.c_-1.2\"><span class=\"toc-item-num\">1.2&nbsp;&nbsp;</span>np.c_</a></span></li><li><span><a href=\"#ravel()\" data-toc-modified-id=\"ravel()-1.3\"><span class=\"toc-item-num\">1.3&nbsp;&nbsp;</span>ravel()</a></span></li><li><span><a href=\"#np.linspace\" data-toc-modified-id=\"np.linspace-1.4\"><span class=\"toc-item-num\">1.4&nbsp;&nbsp;</span>np.linspace</a></span></li></ul></li></ul></div>"
   ]
  },
  {
   "cell_type": "markdown",
   "id": "3d345f40",
   "metadata": {},
   "source": [
    "# test"
   ]
  },
  {
   "cell_type": "markdown",
   "id": "af5486fe",
   "metadata": {},
   "source": [
    "## np.meshgrid\n",
    "np.meshgrid 是 NumPy 中的一个函数，用于生成多维坐标网格。它常用于创建多维函数的坐标网格，比如在三维绘图或等高线绘制中。这个函数接受一维数组作为输入，然后返回一个多维数组，其中包含了根据输入数组的值生成的所有可能的坐标点。以下是一个简单的示例："
   ]
  },
  {
   "cell_type": "code",
   "execution_count": 2,
   "id": "1514d7d5",
   "metadata": {},
   "outputs": [
    {
     "name": "stdout",
     "output_type": "stream",
     "text": [
      "X 坐标网格：\n",
      "[[0 1 2]\n",
      " [0 1 2]\n",
      " [0 1 2]]\n",
      "Y 坐标网格：\n",
      "[[3 3 3]\n",
      " [4 4 4]\n",
      " [5 5 5]]\n"
     ]
    }
   ],
   "source": [
    "import numpy as np\n",
    "\n",
    "# 定义一维数组作为 x 和 y 坐标\n",
    "x = np.array([0, 1, 2])\n",
    "y = np.array([3, 4, 5])\n",
    "\n",
    "# 使用 meshgrid 函数生成二维坐标网格\n",
    "X, Y = np.meshgrid(x, y)\n",
    "\n",
    "print(\"X 坐标网格：\")\n",
    "print(X)\n",
    "print(\"Y 坐标网格：\")\n",
    "print(Y)"
   ]
  },
  {
   "cell_type": "markdown",
   "id": "ac797c1d",
   "metadata": {},
   "source": [
    "## np.c_\n",
    "np.c_ 是 NumPy 中的一个类，用于按列连接两个数组。它可以将两个一维数组按列连接成一个二维数组。以下是一个简单的示例："
   ]
  },
  {
   "cell_type": "code",
   "execution_count": 4,
   "id": "06be1a86",
   "metadata": {
    "scrolled": true
   },
   "outputs": [
    {
     "name": "stdout",
     "output_type": "stream",
     "text": [
      "连接后的结果：\n",
      "[[1 4]\n",
      " [2 5]\n",
      " [3 6]]\n"
     ]
    }
   ],
   "source": [
    "import numpy as np\n",
    "\n",
    "# 定义两个一维数组\n",
    "a = np.array([1, 2, 3])\n",
    "b = np.array([4, 5, 6])\n",
    "\n",
    "# 使用 np.c_ 函数将两个数组按列连接成一个二维数组\n",
    "result = np.c_[a, b]\n",
    "\n",
    "print(\"连接后的结果：\")\n",
    "print(result)"
   ]
  },
  {
   "cell_type": "markdown",
   "id": "33ec5908",
   "metadata": {},
   "source": [
    "## ravel()\n",
    "ravel() 函数是 NumPy 中的一个方法，用于将多维数组展平为一维数组。它返回的是数组的视图，因此对返回的一维数组的修改会影响原始数组。以下是一个简单的示例："
   ]
  },
  {
   "cell_type": "code",
   "execution_count": 6,
   "id": "e7e55fd0",
   "metadata": {},
   "outputs": [
    {
     "name": "stdout",
     "output_type": "stream",
     "text": [
      "展平后的数组：\n",
      "[1 2 3 4 5 6]\n"
     ]
    }
   ],
   "source": [
    "import numpy as np\n",
    "\n",
    "# 创建一个二维数组\n",
    "arr = np.array([[1, 2, 3],\n",
    "                [4, 5, 6]])\n",
    "\n",
    "# 使用 ravel() 方法将数组展平为一维数组\n",
    "flattened_arr = arr.ravel()\n",
    "\n",
    "print(\"展平后的数组：\")\n",
    "print(flattened_arr)"
   ]
  },
  {
   "cell_type": "code",
   "execution_count": 9,
   "id": "772e4d44",
   "metadata": {},
   "outputs": [
    {
     "data": {
      "text/plain": [
       "array([[0, 3],\n",
       "       [1, 3],\n",
       "       [2, 3],\n",
       "       [0, 4],\n",
       "       [1, 4],\n",
       "       [2, 4],\n",
       "       [0, 5],\n",
       "       [1, 5],\n",
       "       [2, 5]])"
      ]
     },
     "execution_count": 9,
     "metadata": {},
     "output_type": "execute_result"
    }
   ],
   "source": [
    "np.c_[X.ravel(), Y.ravel()]"
   ]
  },
  {
   "cell_type": "markdown",
   "id": "08bc7e22",
   "metadata": {},
   "source": [
    "## np.linspace\n",
    "\n",
    "代码示例：产出从 0.6 到 0.9 等间距的 10 个数值"
   ]
  },
  {
   "cell_type": "code",
   "execution_count": 3,
   "id": "423d0889",
   "metadata": {},
   "outputs": [
    {
     "data": {
      "text/plain": [
       "array([0.6       , 0.63333333, 0.66666667, 0.7       , 0.73333333,\n",
       "       0.76666667, 0.8       , 0.83333333, 0.86666667, 0.9       ])"
      ]
     },
     "execution_count": 3,
     "metadata": {},
     "output_type": "execute_result"
    }
   ],
   "source": [
    "import numpy as np\n",
    "\n",
    "np.linspace(0.6, 0.9, 10)"
   ]
  }
 ],
 "metadata": {
  "kernelspec": {
   "display_name": "Python 3 (ipykernel)",
   "language": "python",
   "name": "python3"
  },
  "language_info": {
   "codemirror_mode": {
    "name": "ipython",
    "version": 3
   },
   "file_extension": ".py",
   "mimetype": "text/x-python",
   "name": "python",
   "nbconvert_exporter": "python",
   "pygments_lexer": "ipython3",
   "version": "3.9.6"
  },
  "toc": {
   "base_numbering": 1,
   "nav_menu": {},
   "number_sections": true,
   "sideBar": false,
   "skip_h1_title": false,
   "title_cell": "Table of Contents",
   "title_sidebar": "Contents",
   "toc_cell": true,
   "toc_position": {
    "height": "779px",
    "left": "166px",
    "top": "225px",
    "width": "200px"
   },
   "toc_section_display": true,
   "toc_window_display": true
  },
  "widgets": {
   "application/vnd.jupyter.widget-state+json": {
    "state": {},
    "version_major": 2,
    "version_minor": 0
   }
  }
 },
 "nbformat": 4,
 "nbformat_minor": 5
}
