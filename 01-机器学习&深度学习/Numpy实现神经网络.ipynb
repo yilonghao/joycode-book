{
 "cells": [
  {
   "cell_type": "code",
   "execution_count": 1,
   "id": "fc5b888e",
   "metadata": {},
   "outputs": [],
   "source": [
    "import numpy as np\n",
    "\n",
    "class NN:\n",
    "    def __init__(self, X, y, lr):\n",
    "        \"\"\"初始化参数\"\"\"\n",
    "        self.input_layer = X\n",
    "        self.W1 = np.ones((self.input_layer.shape[1], 3))  # 初始化权重全为 1\n",
    "        self.W2 = np.ones((3, 1))\n",
    "        self.y = y\n",
    "        self.lr = lr\n",
    "        \n",
    "    def forward(self):\n",
    "        \"\"\"前向传播\"\"\"\n",
    "        self.hidden_layer = sigmoid(np.dot(self.input_layer, self.W1))\n",
    "        self.output_layer = sigmoid(np.dot(self.hidden_layer, self.W2))\n",
    "        return self.output_layer\n",
    "    \n",
    "    def backward(self):\n",
    "        \"\"\"反向传播\"\"\"\n",
    "        d_W2 = np.dot(self.hidden_layer.T, (2 * (self.output_layer - self.y) *\n",
    "                                            sigmoid_derivative(np.dot(self.hidden_layer, self.W2))))\n",
    "\n",
    "        d_W1 = np.dot(self.input_layer.T, (\n",
    "            np.dot(2 * (self.output_layer - self.y) * sigmoid_derivative(\n",
    "                   np.dot(self.hidden_layer, self.W2)), self.W2.T) * sigmoid_derivative(\n",
    "                np.dot(self.input_layer, self.W1))))\n",
    "\n",
    "        # 参数更新\n",
    "        self.W1 -= self.lr * d_W1\n",
    "        self.W2 -= self.lr * d_W2"
   ]
  },
  {
   "cell_type": "code",
   "execution_count": 22,
   "id": "98d2c31e",
   "metadata": {
    "scrolled": false
   },
   "outputs": [
    {
     "data": {
      "text/html": [
       "<div>\n",
       "<style scoped>\n",
       "    .dataframe tbody tr th:only-of-type {\n",
       "        vertical-align: middle;\n",
       "    }\n",
       "\n",
       "    .dataframe tbody tr th {\n",
       "        vertical-align: top;\n",
       "    }\n",
       "\n",
       "    .dataframe thead th {\n",
       "        text-align: right;\n",
       "    }\n",
       "</style>\n",
       "<table border=\"1\" class=\"dataframe\">\n",
       "  <thead>\n",
       "    <tr style=\"text-align: right;\">\n",
       "      <th></th>\n",
       "      <th>X0</th>\n",
       "      <th>X1</th>\n",
       "      <th>Y</th>\n",
       "    </tr>\n",
       "  </thead>\n",
       "  <tbody>\n",
       "    <tr>\n",
       "      <th>0</th>\n",
       "      <td>5.1</td>\n",
       "      <td>3.5</td>\n",
       "      <td>0</td>\n",
       "    </tr>\n",
       "    <tr>\n",
       "      <th>1</th>\n",
       "      <td>4.9</td>\n",
       "      <td>3.0</td>\n",
       "      <td>0</td>\n",
       "    </tr>\n",
       "    <tr>\n",
       "      <th>2</th>\n",
       "      <td>4.7</td>\n",
       "      <td>3.2</td>\n",
       "      <td>0</td>\n",
       "    </tr>\n",
       "    <tr>\n",
       "      <th>3</th>\n",
       "      <td>4.6</td>\n",
       "      <td>3.1</td>\n",
       "      <td>0</td>\n",
       "    </tr>\n",
       "    <tr>\n",
       "      <th>4</th>\n",
       "      <td>5.0</td>\n",
       "      <td>3.6</td>\n",
       "      <td>0</td>\n",
       "    </tr>\n",
       "  </tbody>\n",
       "</table>\n",
       "</div>"
      ],
      "text/plain": [
       "    X0   X1  Y\n",
       "0  5.1  3.5  0\n",
       "1  4.9  3.0  0\n",
       "2  4.7  3.2  0\n",
       "3  4.6  3.1  0\n",
       "4  5.0  3.6  0"
      ]
     },
     "execution_count": 22,
     "metadata": {},
     "output_type": "execute_result"
    }
   ],
   "source": [
    "import pandas as pd\n",
    "\n",
    "# 直接运行加载数据集\n",
    "df = pd.read_csv(\"../data/course-12-data.csv\", header=0)\n",
    "\n",
    "df.loc[df['Y'] < 0, 'Y'] = 0\n",
    "\n",
    "# 预览前 5 行数据\n",
    "df.head()"
   ]
  },
  {
   "cell_type": "code",
   "execution_count": 18,
   "id": "f6f6d9b1",
   "metadata": {},
   "outputs": [
    {
     "data": {
      "text/plain": [
       "Text(0.5, 1.0, 'final loss: 0.22221850736793877')"
      ]
     },
     "execution_count": 18,
     "metadata": {},
     "output_type": "execute_result"
    },
    {
     "data": {
      "image/png": "[encoded data removed]",
      "text/plain": [
       "<Figure size 640x480 with 1 Axes>"
      ]
     },
     "metadata": {},
     "output_type": "display_data"
    }
   ],
   "source": [
    "from matplotlib import pyplot as plt\n",
    "%matplotlib inline\n",
    "\n",
    "X = df[['X0', 'X1']].values  # 输入值\n",
    "y = df[['Y']].values  # 真实 y\n",
    "nn_model = NN(X, y, lr=0.001)  # 定义模型\n",
    "loss_list = []  # 存放损失数值变化\n",
    "\n",
    "def sigmoid(x):\n",
    "    \"\"\"激活函数\"\"\"\n",
    "    return 1 / (1 + np.exp(-x))\n",
    "\n",
    "def sigmoid_derivative(x):\n",
    "    \"\"\"sigmoid 函数求导\"\"\"\n",
    "    return sigmoid(x) * (1 - sigmoid(x))\n",
    "\n",
    "# 迭代 200 次\n",
    "for _ in range(200):\n",
    "    y_ = nn_model.forward()  # 前向传播\n",
    "    nn_model.backward()  # 反向传播\n",
    "    loss = np.square(np.subtract(y, y_)).mean()  # 计算 MSE 损失\n",
    "    loss_list.append(loss)\n",
    "\n",
    "plt.plot(loss_list)  # 绘制 loss 曲线变化图\n",
    "plt.title(f\"final loss: {loss}\")"
   ]
  },
  {
   "cell_type": "code",
   "execution_count": null,
   "id": "2ed63344",
   "metadata": {},
   "outputs": [],
   "source": []
  }
 ],
 "metadata": {
  "kernelspec": {
   "display_name": "Python 3 (ipykernel)",
   "language": "python",
   "name": "python3"
  },
  "language_info": {
   "codemirror_mode": {
    "name": "ipython",
    "version": 3
   },
   "file_extension": ".py",
   "mimetype": "text/x-python",
   "name": "python",
   "nbconvert_exporter": "python",
   "pygments_lexer": "ipython3",
   "version": "3.9.6"
  }
 },
 "nbformat": 4,
 "nbformat_minor": 5
}
