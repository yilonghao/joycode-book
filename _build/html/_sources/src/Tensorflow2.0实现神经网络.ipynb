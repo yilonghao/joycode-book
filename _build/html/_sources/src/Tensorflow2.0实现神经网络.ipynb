{
 "cells": [
  {
   "cell_type": "code",
   "execution_count": 1,
   "id": "a770311e",
   "metadata": {},
   "outputs": [
    {
     "data": {
      "text/html": [
       "<div>\n",
       "<style scoped>\n",
       "    .dataframe tbody tr th:only-of-type {\n",
       "        vertical-align: middle;\n",
       "    }\n",
       "\n",
       "    .dataframe tbody tr th {\n",
       "        vertical-align: top;\n",
       "    }\n",
       "\n",
       "    .dataframe thead th {\n",
       "        text-align: right;\n",
       "    }\n",
       "</style>\n",
       "<table border=\"1\" class=\"dataframe\">\n",
       "  <thead>\n",
       "    <tr style=\"text-align: right;\">\n",
       "      <th></th>\n",
       "      <th>X0</th>\n",
       "      <th>X1</th>\n",
       "      <th>Y</th>\n",
       "    </tr>\n",
       "  </thead>\n",
       "  <tbody>\n",
       "    <tr>\n",
       "      <th>0</th>\n",
       "      <td>5.1</td>\n",
       "      <td>3.5</td>\n",
       "      <td>-1</td>\n",
       "    </tr>\n",
       "    <tr>\n",
       "      <th>1</th>\n",
       "      <td>4.9</td>\n",
       "      <td>3.0</td>\n",
       "      <td>-1</td>\n",
       "    </tr>\n",
       "    <tr>\n",
       "      <th>2</th>\n",
       "      <td>4.7</td>\n",
       "      <td>3.2</td>\n",
       "      <td>-1</td>\n",
       "    </tr>\n",
       "    <tr>\n",
       "      <th>3</th>\n",
       "      <td>4.6</td>\n",
       "      <td>3.1</td>\n",
       "      <td>-1</td>\n",
       "    </tr>\n",
       "    <tr>\n",
       "      <th>4</th>\n",
       "      <td>5.0</td>\n",
       "      <td>3.6</td>\n",
       "      <td>-1</td>\n",
       "    </tr>\n",
       "  </tbody>\n",
       "</table>\n",
       "</div>"
      ],
      "text/plain": [
       "    X0   X1  Y\n",
       "0  5.1  3.5 -1\n",
       "1  4.9  3.0 -1\n",
       "2  4.7  3.2 -1\n",
       "3  4.6  3.1 -1\n",
       "4  5.0  3.6 -1"
      ]
     },
     "execution_count": 1,
     "metadata": {},
     "output_type": "execute_result"
    }
   ],
   "source": [
    "import pandas as pd\n",
    "\n",
    "# 直接运行加载数据集\n",
    "df = pd.read_csv(\"../data/course-12-data.csv\", header=0)\n",
    "\n",
    "# 预览前 5 行数据\n",
    "df.head()"
   ]
  },
  {
   "cell_type": "markdown",
   "id": "952a87c7",
   "metadata": {},
   "source": [
    "## 将数组转换为常量张量\n",
    "\n",
    "tf.cast 是 TensorFlow 中的一个函数，用于执行张量数据类型的转换。它的作用是将张量的数据类型转换为指定的数据类型。"
   ]
  },
  {
   "cell_type": "code",
   "execution_count": 2,
   "id": "9e1715d6",
   "metadata": {},
   "outputs": [
    {
     "name": "stderr",
     "output_type": "stream",
     "text": [
      "/Users/yilonghao/Library/Python/3.9/lib/python/site-packages/urllib3/__init__.py:34: NotOpenSSLWarning: urllib3 v2.0 only supports OpenSSL 1.1.1+, currently the 'ssl' module is compiled with 'LibreSSL 2.8.3'. See: https://github.com/urllib3/urllib3/issues/3020\n",
      "  warnings.warn(\n"
     ]
    },
    {
     "data": {
      "text/plain": [
       "(TensorShape([150, 2]), TensorShape([150, 1]))"
      ]
     },
     "execution_count": 2,
     "metadata": {},
     "output_type": "execute_result"
    }
   ],
   "source": [
    "import tensorflow as tf\n",
    "\n",
    "# 将数组转换为常量张量\n",
    "X = tf.cast(tf.constant(df[['X0', 'X1']].values), tf.float32)\n",
    "y = tf.constant(df[['Y']].values)\n",
    "\n",
    "X.shape, y.shape"
   ]
  },
  {
   "cell_type": "markdown",
   "id": "169f91b7",
   "metadata": {},
   "source": [
    "## 定义模型类\n",
    "\n",
    "tf.Variable 是 TensorFlow 中用于表示可变张量的类。可变张量是指可以通过 TensorFlow 的计算图进行修改的张量，通常用于表示模型参数或其他可训练的变量。\n",
    "\n",
    "使用 tf.Variable 时，你可以在 TensorFlow 的计算图中进行张量的创建和修改，而且 TensorFlow 会自动跟踪这些修改，以便在进行反向传播时更新相应的梯度。"
   ]
  },
  {
   "cell_type": "code",
   "execution_count": 3,
   "id": "c0ad2359",
   "metadata": {},
   "outputs": [],
   "source": [
    "class Model(object):\n",
    "    def __init__(self):\n",
    "        # 初始化权重全为 1，也可以随机初始化\n",
    "        # 选择变量张量，因为权重后续会不断迭代更新\n",
    "        self.W1 = tf.Variable(tf.ones([2, 3]))\n",
    "        self.W2 = tf.Variable(tf.ones([3, 1]))\n",
    "\n",
    "    def __call__(self, x):\n",
    "        hidden_layer = tf.nn.sigmoid(tf.linalg.matmul(X, self.W1))  # 隐含层前向传播\n",
    "        y_ = tf.nn.sigmoid(tf.linalg.matmul(hidden_layer, self.W2))  # 输出层前向传播\n",
    "        return y_"
   ]
  },
  {
   "cell_type": "code",
   "execution_count": 4,
   "id": "f336509d",
   "metadata": {},
   "outputs": [
    {
     "data": {
      "text/plain": [
       "TensorShape([150, 1])"
      ]
     },
     "execution_count": 4,
     "metadata": {},
     "output_type": "execute_result"
    }
   ],
   "source": [
    "model = Model()  # 实例化类\n",
    "y_ = model(X)  # 测试输入\n",
    "y_.shape  # 输出"
   ]
  },
  {
   "cell_type": "code",
   "execution_count": 9,
   "id": "2151ce23",
   "metadata": {},
   "outputs": [],
   "source": [
    "def loss_fn(model, X, y):\n",
    "    \"\"\"计算loss\"\"\"\n",
    "    y_ = model(X)  # 前向传播得到预测值\n",
    "    # 使用 MSE 损失函数，并使用 reduce_mean 计算样本总损失\n",
    "    loss = tf.reduce_mean(tf.compat.v1.losses.mean_squared_error(y, y_))\n",
    "    return loss"
   ]
  },
  {
   "cell_type": "code",
   "execution_count": 10,
   "id": "db7c8429",
   "metadata": {},
   "outputs": [
    {
     "data": {
      "text/plain": [
       "<tf.Tensor: shape=(), dtype=float32, numpy=1.2723011>"
      ]
     },
     "execution_count": 10,
     "metadata": {},
     "output_type": "execute_result"
    }
   ],
   "source": [
    "loss = loss_fn(model, X, y)\n",
    "loss"
   ]
  },
  {
   "cell_type": "markdown",
   "id": "2298c010",
   "metadata": {},
   "source": [
    "## 迭代训练"
   ]
  },
  {
   "cell_type": "code",
   "execution_count": 11,
   "id": "4ce52ec3",
   "metadata": {},
   "outputs": [
    {
     "name": "stdout",
     "output_type": "stream",
     "text": [
      "Epoch [000/200], Loss: [1.2723]\n",
      "Epoch [100/200], Loss: [0.9051]\n",
      "Epoch [200/200], Loss: [0.8889]\n"
     ]
    }
   ],
   "source": [
    "EPOCHS = 200  # 迭代 200 次\n",
    "LEARNING_RATE = 0.1  # 学习率\n",
    "\n",
    "for epoch in range(EPOCHS):\n",
    "    # 使用 GradientTape 追踪梯度\n",
    "    with tf.GradientTape() as tape:\n",
    "        loss = loss_fn(model, X, y)  # 计算 Loss，包含前向传播过程\n",
    "    # 使用梯度下降法优化迭代\n",
    "    # 输出模型需优化参数 W1，W2 自动微分结果\n",
    "    dW1, dW2 = tape.gradient(loss, [model.W1, model.W2])\n",
    "    model.W1.assign_sub(LEARNING_RATE * dW1)  # 更新梯度\n",
    "    model.W2.assign_sub(LEARNING_RATE * dW2)\n",
    "\n",
    "    # 每 100 个 Epoch 输出各项指标\n",
    "    if epoch == 0:\n",
    "        print(f'Epoch [000/{EPOCHS}], Loss: [{loss:.4f}]')\n",
    "    elif (epoch + 1) % 100 == 0:\n",
    "        print(f'Epoch [{epoch+1}/{EPOCHS}], Loss: [{loss:.4f}]')"
   ]
  },
  {
   "cell_type": "markdown",
   "id": "90d0842a",
   "metadata": {},
   "source": [
    "## 使用 TensorFlow 优化器"
   ]
  },
  {
   "cell_type": "code",
   "execution_count": 12,
   "id": "6a261266",
   "metadata": {},
   "outputs": [
    {
     "data": {
      "text/plain": [
       "<keras.src.optimizers.sgd.SGD at 0x117f48dc0>"
      ]
     },
     "execution_count": 12,
     "metadata": {},
     "output_type": "execute_result"
    }
   ],
   "source": [
    "# 定义 SGD 优化器，设定学习率，\n",
    "optimizer = tf.optimizers.SGD(learning_rate=0.1)\n",
    "optimizer"
   ]
  },
  {
   "cell_type": "code",
   "execution_count": 13,
   "id": "9d607b36",
   "metadata": {},
   "outputs": [
    {
     "name": "stdout",
     "output_type": "stream",
     "text": [
      "Epoch [000/200], Loss: [1.2723]\n",
      "Epoch [100/200], Loss: [0.9051]\n",
      "Epoch [200/200], Loss: [0.8889]\n"
     ]
    }
   ],
   "source": [
    "loss_list = []  # 存放每一次 loss\n",
    "model = Model()  # 实例化类\n",
    "for epoch in range(EPOCHS):\n",
    "    # 使用 GradientTape 追踪梯度\n",
    "    with tf.GradientTape() as tape:\n",
    "        loss = loss_fn(model, X, y)  # 计算 Loss，包含前向传播过程\n",
    "        loss_list.append(loss)  # 保存每次迭代 loss\n",
    "\n",
    "    grads = tape.gradient(loss, [model.W1, model.W2])  # 输出自动微分结果\n",
    "    optimizer.apply_gradients(zip(grads, [model.W1, model.W2]))  # 使用优化器更新梯度\n",
    "\n",
    "    # 每 100 个 Epoch 输出各项指标\n",
    "    if epoch == 0:\n",
    "        print(f'Epoch [000/{EPOCHS}], Loss: [{loss:.4f}]')\n",
    "    elif (epoch + 1) % 100 == 0:\n",
    "        print(f'Epoch [{epoch+1}/{EPOCHS}], Loss: [{loss:.4f}]')"
   ]
  },
  {
   "cell_type": "code",
   "execution_count": 15,
   "id": "0537fb4c",
   "metadata": {},
   "outputs": [
    {
     "data": {
      "text/plain": [
       "[<matplotlib.lines.Line2D at 0x121e62fd0>]"
      ]
     },
     "execution_count": 15,
     "metadata": {},
     "output_type": "execute_result"
    },
    {
     "data": {
      "image/png": "[encoded data removed]",
      "text/plain": [
       "<Figure size 640x480 with 1 Axes>"
      ]
     },
     "metadata": {},
     "output_type": "display_data"
    }
   ],
   "source": [
    "from matplotlib import pyplot as plt\n",
    "%matplotlib inline\n",
    "\n",
    "plt.plot(loss_list)  # 绘制 loss 变化图像"
   ]
  }
 ],
 "metadata": {
  "kernelspec": {
   "display_name": "Python 3 (ipykernel)",
   "language": "python",
   "name": "python3"
  },
  "language_info": {
   "codemirror_mode": {
    "name": "ipython",
    "version": 3
   },
   "file_extension": ".py",
   "mimetype": "text/x-python",
   "name": "python",
   "nbconvert_exporter": "python",
   "pygments_lexer": "ipython3",
   "version": "3.9.6"
  }
 },
 "nbformat": 4,
 "nbformat_minor": 5
}
